{
 "cells": [
  {
   "cell_type": "code",
   "execution_count": 1,
   "metadata": {},
   "outputs": [],
   "source": [
    "import numpy as np\n",
    "import pandas as pd"
   ]
  },
  {
   "cell_type": "markdown",
   "metadata": {},
   "source": [
    "## Pandas\n",
    "- 데이터처리와 분석을 위한 파이썬 라이브러리.\n",
    "- 엑셀의 스프레드시트와 비슷한 테이블 제공\n",
    "- Series(1D), Dataframe(2D) 두 종류의 자료구조.\n",
    "- (csv 파일을 받은 후 pandas를 이용해 데이터 가공.)\n",
    "\n",
    "## 주요기능\n",
    "- 자유로운 데이터 변환\n",
    "- 활용도가 높은 Dataframe 객체\n",
    "- pivot table과 같이 데이터 구조에 대한 변환\n",
    "- 날짜형 데이터(시계열)\n",
    "- 다양한 필터링\n",
    "- 누락된 데이터의 처리 기능\n",
    "\n",
    "튜토리얼\n",
    "https://pandas.pydata.org/pandas-docs/stable/getting_started/10min.html\n"
   ]
  },
  {
   "cell_type": "code",
   "execution_count": 2,
   "metadata": {},
   "outputs": [
    {
     "data": {
      "text/plain": [
       "'0.24.2'"
      ]
     },
     "execution_count": 2,
     "metadata": {},
     "output_type": "execute_result"
    }
   ],
   "source": [
    "pd.__version__"
   ]
  },
  {
   "cell_type": "markdown",
   "metadata": {},
   "source": [
    "## Series 생성하기\n",
    "- 시리즈 = Numpy배열(값) + 인덱스\n",
    "- 1차원의 인덱스가 부여된 배열 (인덱스는 숫자 or 문자열 가능)\n",
    "- SeriesVar = pd.Series(List)\n",
    "- SeriesVar = pd.Series(Dictionary)\n",
    "- 판다스와 파이썬 자료형 비교\n",
    "  - object - string\n",
    "  - int64 - int\n",
    "  - float64 - float"
   ]
  },
  {
   "cell_type": "code",
   "execution_count": 4,
   "metadata": {},
   "outputs": [
    {
     "data": {
      "text/plain": [
       "0    4322\n",
       "1     463\n",
       "2     675\n",
       "3       2\n",
       "4      47\n",
       "dtype: int64"
      ]
     },
     "execution_count": 4,
     "metadata": {},
     "output_type": "execute_result"
    }
   ],
   "source": [
    "s1 = pd.Series([4322, 463, 675, 2, 47])\n",
    "s1"
   ]
  },
  {
   "cell_type": "code",
   "execution_count": 6,
   "metadata": {},
   "outputs": [
    {
     "data": {
      "text/plain": [
       "0      시\n",
       "1     나무\n",
       "2    자동차\n",
       "3    카페트\n",
       "dtype: object"
      ]
     },
     "execution_count": 6,
     "metadata": {},
     "output_type": "execute_result"
    }
   ],
   "source": [
    "s2 = pd.Series(['시', '나무', '자동차', '카페트'])\n",
    "s2"
   ]
  },
  {
   "cell_type": "code",
   "execution_count": 7,
   "metadata": {},
   "outputs": [
    {
     "data": {
      "text/plain": [
       "0    35.520\n",
       "1     6.250\n",
       "2     7.300\n",
       "3    35.244\n",
       "4    66.000\n",
       "dtype: float64"
      ]
     },
     "execution_count": 7,
     "metadata": {},
     "output_type": "execute_result"
    }
   ],
   "source": [
    "myList = [35.52, 6.25, 7.3, 35.244, 66.0]\n",
    "s3 = pd.Series(myList)\n",
    "s3"
   ]
  },
  {
   "cell_type": "code",
   "execution_count": 8,
   "metadata": {},
   "outputs": [
    {
     "data": {
      "text/plain": [
       "a    apple\n",
       "b      bus\n",
       "c    cable\n",
       "dtype: object"
      ]
     },
     "execution_count": 8,
     "metadata": {},
     "output_type": "execute_result"
    }
   ],
   "source": [
    "s4 = pd.Series({'a':'apple', 'b':'bus', 'c':'cable'})\n",
    "s4"
   ]
  },
  {
   "cell_type": "markdown",
   "metadata": {},
   "source": [
    "### 값, 인덱스, 데이터형 추출\n",
    "- seriesVar.values\n",
    "- seriesVar.index\n",
    "- seriesVar.dtype"
   ]
  },
  {
   "cell_type": "code",
   "execution_count": 10,
   "metadata": {},
   "outputs": [
    {
     "name": "stdout",
     "output_type": "stream",
     "text": [
      "<class 'pandas.core.series.Series'> [4322  463  675    2   47] RangeIndex(start=0, stop=5, step=1) int64\n",
      "<class 'pandas.core.series.Series'> ['apple' 'bus' 'cable'] Index(['a', 'b', 'c'], dtype='object') object\n"
     ]
    }
   ],
   "source": [
    "print(type(s1), s1.values, s1.index, s1.dtype)\n",
    "print(type(s4), s4.values, s4.index, s4.dtype)"
   ]
  },
  {
   "cell_type": "markdown",
   "metadata": {},
   "source": [
    "#### 시리즈 생성 시 인덱스 정의하기\n",
    "- SeriesVar = pd.Series(데이터리스트, index=인덱스리트스)\n",
    "- SeriesVar.index = 인덱스리스트"
   ]
  },
  {
   "cell_type": "code",
   "execution_count": 11,
   "metadata": {},
   "outputs": [
    {
     "data": {
      "text/plain": [
       "a      1\n",
       "b     35\n",
       "c    234\n",
       "d    564\n",
       "e     63\n",
       "dtype: int64"
      ]
     },
     "execution_count": 11,
     "metadata": {},
     "output_type": "execute_result"
    }
   ],
   "source": [
    "s5 = pd.Series([1, 35 ,234, 564, 63], index=['a', 'b', 'c', 'd', 'e'])\n",
    "s5"
   ]
  },
  {
   "cell_type": "code",
   "execution_count": 12,
   "metadata": {},
   "outputs": [
    {
     "data": {
      "text/plain": [
       "aa      1\n",
       "bb     35\n",
       "cc    234\n",
       "dd    564\n",
       "ee     63\n",
       "dtype: int64"
      ]
     },
     "execution_count": 12,
     "metadata": {},
     "output_type": "execute_result"
    }
   ],
   "source": [
    "s5.index = ['aa', 'bb', 'cc', 'dd', 'ee']\n",
    "s5"
   ]
  },
  {
   "cell_type": "markdown",
   "metadata": {},
   "source": [
    "### index.name, name으로 인덱스이름과 시리즈이름 정의하기\n",
    "- sVar.index.name : 인덱스이름\n",
    "- sVar.name : 시리즈 이름"
   ]
  },
  {
   "cell_type": "code",
   "execution_count": 13,
   "metadata": {},
   "outputs": [
    {
     "data": {
      "text/plain": [
       "indexName\n",
       "aa      1\n",
       "bb     35\n",
       "cc    234\n",
       "dd    564\n",
       "ee     63\n",
       "Name: Series s5, dtype: int64"
      ]
     },
     "execution_count": 13,
     "metadata": {},
     "output_type": "execute_result"
    }
   ],
   "source": [
    "s5.index.name = 'indexName'\n",
    "s5.name = 'Series s5'\n",
    "s5"
   ]
  },
  {
   "cell_type": "markdown",
   "metadata": {},
   "source": [
    "## 퀴즈"
   ]
  },
  {
   "cell_type": "code",
   "execution_count": 22,
   "metadata": {},
   "outputs": [
    {
     "name": "stdout",
     "output_type": "stream",
     "text": [
      "과목\n",
      "국어     90\n",
      "수학     80\n",
      "영어    100\n",
      "과학     55\n",
      "역사     70\n",
      "Name: 중간고사 성적표, dtype: int64\n",
      "평균 79.0\n"
     ]
    }
   ],
   "source": [
    "grade = pd.Series([90, 80, 100, 55, 70])\n",
    "grade.index = (['국어', '수학', '영어', '과학', '역사'])\n",
    "grade.index.name = '과목'\n",
    "grade.name = '중간고사 성적표'\n",
    "print(grade)\n",
    "print('평균', grade.mean())"
   ]
  },
  {
   "cell_type": "markdown",
   "metadata": {},
   "source": [
    "### 시리즈 인덱싱"
   ]
  },
  {
   "cell_type": "code",
   "execution_count": 23,
   "metadata": {},
   "outputs": [
    {
     "data": {
      "text/plain": [
       "홍길동     23\n",
       "신데렐라    31\n",
       "백설      52\n",
       "dtype: int64"
      ]
     },
     "execution_count": 23,
     "metadata": {},
     "output_type": "execute_result"
    }
   ],
   "source": [
    "s6 = pd.Series({'홍길동':23, '신데렐라':31, '백설':52})\n",
    "s6"
   ]
  },
  {
   "cell_type": "code",
   "execution_count": 26,
   "metadata": {},
   "outputs": [
    {
     "data": {
      "text/plain": [
       "23"
      ]
     },
     "execution_count": 26,
     "metadata": {},
     "output_type": "execute_result"
    }
   ],
   "source": [
    "# 인덱스 이름으로 추출\n",
    "s6['홍길동']"
   ]
  },
  {
   "cell_type": "code",
   "execution_count": 27,
   "metadata": {},
   "outputs": [
    {
     "name": "stdout",
     "output_type": "stream",
     "text": [
      "23 31 52 52\n"
     ]
    }
   ],
   "source": [
    "# 숫자 인덱스로 추출\n",
    "print(s6[0], s6[1], s6[2], s6[-1])"
   ]
  },
  {
   "cell_type": "code",
   "execution_count": null,
   "metadata": {},
   "outputs": [],
   "source": []
  }
 ],
 "metadata": {
  "kernelspec": {
   "display_name": "Python 3",
   "language": "python",
   "name": "python3"
  },
  "language_info": {
   "codemirror_mode": {
    "name": "ipython",
    "version": 3
   },
   "file_extension": ".py",
   "mimetype": "text/x-python",
   "name": "python",
   "nbconvert_exporter": "python",
   "pygments_lexer": "ipython3",
   "version": "3.7.3"
  }
 },
 "nbformat": 4,
 "nbformat_minor": 2
}
