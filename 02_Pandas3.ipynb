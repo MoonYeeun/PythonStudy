{
 "cells": [
  {
   "cell_type": "code",
   "execution_count": 1,
   "metadata": {},
   "outputs": [],
   "source": [
    "import numpy as np\n",
    "import pandas as pd"
   ]
  },
  {
   "cell_type": "markdown",
   "metadata": {},
   "source": [
    "## pd.data_range()\n",
    "- 연속적인 날짜 데이터에 사용\n",
    "- pd.date_range(초기날짜, periods=count)"
   ]
  },
  {
   "cell_type": "code",
   "execution_count": 3,
   "metadata": {},
   "outputs": [
    {
     "data": {
      "text/plain": [
       "array([ 1,  2,  3,  4,  5,  6,  7,  8,  9, 10])"
      ]
     },
     "execution_count": 3,
     "metadata": {},
     "output_type": "execute_result"
    }
   ],
   "source": [
    "# 연속된 숫자 출력\n",
    "np.arange(1, 11)"
   ]
  },
  {
   "cell_type": "code",
   "execution_count": 5,
   "metadata": {},
   "outputs": [
    {
     "data": {
      "text/plain": [
       "DatetimeIndex(['2019-02-26', '2019-02-27', '2019-02-28', '2019-03-01',\n",
       "               '2019-03-02'],\n",
       "              dtype='datetime64[ns]', freq='D')"
      ]
     },
     "execution_count": 5,
     "metadata": {},
     "output_type": "execute_result"
    }
   ],
   "source": [
    "# 연속된 날짜 데이터 생성\n",
    "date_list = pd.date_range('20190226', periods=5)\n",
    "date_list"
   ]
  },
  {
   "cell_type": "code",
   "execution_count": 6,
   "metadata": {},
   "outputs": [
    {
     "data": {
      "text/plain": [
       "pandas.core.indexes.datetimes.DatetimeIndex"
      ]
     },
     "execution_count": 6,
     "metadata": {},
     "output_type": "execute_result"
    }
   ],
   "source": [
    "type(date_list)"
   ]
  },
  {
   "cell_type": "markdown",
   "metadata": {},
   "source": [
    "## 행별 열별로 정렬\n",
    "- 데이터프레임이름.sort_index(axis=0)\n",
    "- 데이터프레임이름.sort_index(axis=1)\n",
    "- 데이터프레임이름.sort_index(axis=0/1, ascending=False)\n",
    "- 원본 데이터프레임 데이터값은 변경되지 않는다."
   ]
  },
  {
   "cell_type": "code",
   "execution_count": 7,
   "metadata": {},
   "outputs": [
    {
     "data": {
      "text/html": [
       "<div>\n",
       "<style scoped>\n",
       "    .dataframe tbody tr th:only-of-type {\n",
       "        vertical-align: middle;\n",
       "    }\n",
       "\n",
       "    .dataframe tbody tr th {\n",
       "        vertical-align: top;\n",
       "    }\n",
       "\n",
       "    .dataframe thead th {\n",
       "        text-align: right;\n",
       "    }\n",
       "</style>\n",
       "<table border=\"1\" class=\"dataframe\">\n",
       "  <thead>\n",
       "    <tr style=\"text-align: right;\">\n",
       "      <th></th>\n",
       "      <th>0</th>\n",
       "      <th>1</th>\n",
       "      <th>2</th>\n",
       "      <th>3</th>\n",
       "    </tr>\n",
       "  </thead>\n",
       "  <tbody>\n",
       "    <tr>\n",
       "      <th>0</th>\n",
       "      <td>0.371560</td>\n",
       "      <td>-0.467634</td>\n",
       "      <td>1.194949</td>\n",
       "      <td>-1.114609</td>\n",
       "    </tr>\n",
       "    <tr>\n",
       "      <th>1</th>\n",
       "      <td>1.699208</td>\n",
       "      <td>0.574128</td>\n",
       "      <td>-1.462515</td>\n",
       "      <td>1.497053</td>\n",
       "    </tr>\n",
       "    <tr>\n",
       "      <th>2</th>\n",
       "      <td>0.772758</td>\n",
       "      <td>0.488895</td>\n",
       "      <td>-0.937426</td>\n",
       "      <td>-0.357970</td>\n",
       "    </tr>\n",
       "    <tr>\n",
       "      <th>3</th>\n",
       "      <td>0.000472</td>\n",
       "      <td>1.039187</td>\n",
       "      <td>-1.686793</td>\n",
       "      <td>-0.152662</td>\n",
       "    </tr>\n",
       "    <tr>\n",
       "      <th>4</th>\n",
       "      <td>-0.281552</td>\n",
       "      <td>0.976869</td>\n",
       "      <td>-1.324162</td>\n",
       "      <td>-0.845684</td>\n",
       "    </tr>\n",
       "    <tr>\n",
       "      <th>5</th>\n",
       "      <td>-0.279657</td>\n",
       "      <td>-0.343336</td>\n",
       "      <td>0.414134</td>\n",
       "      <td>0.229623</td>\n",
       "    </tr>\n",
       "  </tbody>\n",
       "</table>\n",
       "</div>"
      ],
      "text/plain": [
       "          0         1         2         3\n",
       "0  0.371560 -0.467634  1.194949 -1.114609\n",
       "1  1.699208  0.574128 -1.462515  1.497053\n",
       "2  0.772758  0.488895 -0.937426 -0.357970\n",
       "3  0.000472  1.039187 -1.686793 -0.152662\n",
       "4 -0.281552  0.976869 -1.324162 -0.845684\n",
       "5 -0.279657 -0.343336  0.414134  0.229623"
      ]
     },
     "execution_count": 7,
     "metadata": {},
     "output_type": "execute_result"
    }
   ],
   "source": [
    "df1 = pd.DataFrame(np.random.randn(6, 4))\n",
    "df1"
   ]
  },
  {
   "cell_type": "code",
   "execution_count": 8,
   "metadata": {},
   "outputs": [
    {
     "data": {
      "text/html": [
       "<div>\n",
       "<style scoped>\n",
       "    .dataframe tbody tr th:only-of-type {\n",
       "        vertical-align: middle;\n",
       "    }\n",
       "\n",
       "    .dataframe tbody tr th {\n",
       "        vertical-align: top;\n",
       "    }\n",
       "\n",
       "    .dataframe thead th {\n",
       "        text-align: right;\n",
       "    }\n",
       "</style>\n",
       "<table border=\"1\" class=\"dataframe\">\n",
       "  <thead>\n",
       "    <tr style=\"text-align: right;\">\n",
       "      <th></th>\n",
       "      <th>B</th>\n",
       "      <th>A</th>\n",
       "      <th>D</th>\n",
       "      <th>C</th>\n",
       "    </tr>\n",
       "  </thead>\n",
       "  <tbody>\n",
       "    <tr>\n",
       "      <th>2019-01-22</th>\n",
       "      <td>0.371560</td>\n",
       "      <td>-0.467634</td>\n",
       "      <td>1.194949</td>\n",
       "      <td>-1.114609</td>\n",
       "    </tr>\n",
       "    <tr>\n",
       "      <th>2019-01-23</th>\n",
       "      <td>1.699208</td>\n",
       "      <td>0.574128</td>\n",
       "      <td>-1.462515</td>\n",
       "      <td>1.497053</td>\n",
       "    </tr>\n",
       "    <tr>\n",
       "      <th>2019-01-24</th>\n",
       "      <td>0.772758</td>\n",
       "      <td>0.488895</td>\n",
       "      <td>-0.937426</td>\n",
       "      <td>-0.357970</td>\n",
       "    </tr>\n",
       "    <tr>\n",
       "      <th>2019-01-25</th>\n",
       "      <td>0.000472</td>\n",
       "      <td>1.039187</td>\n",
       "      <td>-1.686793</td>\n",
       "      <td>-0.152662</td>\n",
       "    </tr>\n",
       "    <tr>\n",
       "      <th>2019-01-26</th>\n",
       "      <td>-0.281552</td>\n",
       "      <td>0.976869</td>\n",
       "      <td>-1.324162</td>\n",
       "      <td>-0.845684</td>\n",
       "    </tr>\n",
       "    <tr>\n",
       "      <th>2019-01-27</th>\n",
       "      <td>-0.279657</td>\n",
       "      <td>-0.343336</td>\n",
       "      <td>0.414134</td>\n",
       "      <td>0.229623</td>\n",
       "    </tr>\n",
       "  </tbody>\n",
       "</table>\n",
       "</div>"
      ],
      "text/plain": [
       "                   B         A         D         C\n",
       "2019-01-22  0.371560 -0.467634  1.194949 -1.114609\n",
       "2019-01-23  1.699208  0.574128 -1.462515  1.497053\n",
       "2019-01-24  0.772758  0.488895 -0.937426 -0.357970\n",
       "2019-01-25  0.000472  1.039187 -1.686793 -0.152662\n",
       "2019-01-26 -0.281552  0.976869 -1.324162 -0.845684\n",
       "2019-01-27 -0.279657 -0.343336  0.414134  0.229623"
      ]
     },
     "execution_count": 8,
     "metadata": {},
     "output_type": "execute_result"
    }
   ],
   "source": [
    "df1.columns = ['B', 'A', 'D','C']\n",
    "df1.index = pd.date_range('20190122', periods=6)\n",
    "df1"
   ]
  },
  {
   "cell_type": "code",
   "execution_count": 9,
   "metadata": {},
   "outputs": [
    {
     "data": {
      "text/plain": [
       "DatetimeIndex(['2019-01-22', '2019-01-23', '2019-01-24', '2019-01-25',\n",
       "               '2019-01-26', '2019-01-27'],\n",
       "              dtype='datetime64[ns]', freq='D')"
      ]
     },
     "execution_count": 9,
     "metadata": {},
     "output_type": "execute_result"
    }
   ],
   "source": [
    "# 행 위치 조정하기\n",
    "df1.index"
   ]
  },
  {
   "cell_type": "code",
   "execution_count": 10,
   "metadata": {},
   "outputs": [
    {
     "data": {
      "text/html": [
       "<div>\n",
       "<style scoped>\n",
       "    .dataframe tbody tr th:only-of-type {\n",
       "        vertical-align: middle;\n",
       "    }\n",
       "\n",
       "    .dataframe tbody tr th {\n",
       "        vertical-align: top;\n",
       "    }\n",
       "\n",
       "    .dataframe thead th {\n",
       "        text-align: right;\n",
       "    }\n",
       "</style>\n",
       "<table border=\"1\" class=\"dataframe\">\n",
       "  <thead>\n",
       "    <tr style=\"text-align: right;\">\n",
       "      <th></th>\n",
       "      <th>B</th>\n",
       "      <th>A</th>\n",
       "      <th>D</th>\n",
       "      <th>C</th>\n",
       "    </tr>\n",
       "  </thead>\n",
       "  <tbody>\n",
       "    <tr>\n",
       "      <th>2019-01-27</th>\n",
       "      <td>0.371560</td>\n",
       "      <td>-0.467634</td>\n",
       "      <td>1.194949</td>\n",
       "      <td>-1.114609</td>\n",
       "    </tr>\n",
       "    <tr>\n",
       "      <th>2019-01-25</th>\n",
       "      <td>1.699208</td>\n",
       "      <td>0.574128</td>\n",
       "      <td>-1.462515</td>\n",
       "      <td>1.497053</td>\n",
       "    </tr>\n",
       "    <tr>\n",
       "      <th>2019-01-23</th>\n",
       "      <td>0.772758</td>\n",
       "      <td>0.488895</td>\n",
       "      <td>-0.937426</td>\n",
       "      <td>-0.357970</td>\n",
       "    </tr>\n",
       "    <tr>\n",
       "      <th>2019-01-22</th>\n",
       "      <td>0.000472</td>\n",
       "      <td>1.039187</td>\n",
       "      <td>-1.686793</td>\n",
       "      <td>-0.152662</td>\n",
       "    </tr>\n",
       "    <tr>\n",
       "      <th>2019-01-24</th>\n",
       "      <td>-0.281552</td>\n",
       "      <td>0.976869</td>\n",
       "      <td>-1.324162</td>\n",
       "      <td>-0.845684</td>\n",
       "    </tr>\n",
       "    <tr>\n",
       "      <th>2019-01-26</th>\n",
       "      <td>-0.279657</td>\n",
       "      <td>-0.343336</td>\n",
       "      <td>0.414134</td>\n",
       "      <td>0.229623</td>\n",
       "    </tr>\n",
       "  </tbody>\n",
       "</table>\n",
       "</div>"
      ],
      "text/plain": [
       "                   B         A         D         C\n",
       "2019-01-27  0.371560 -0.467634  1.194949 -1.114609\n",
       "2019-01-25  1.699208  0.574128 -1.462515  1.497053\n",
       "2019-01-23  0.772758  0.488895 -0.937426 -0.357970\n",
       "2019-01-22  0.000472  1.039187 -1.686793 -0.152662\n",
       "2019-01-24 -0.281552  0.976869 -1.324162 -0.845684\n",
       "2019-01-26 -0.279657 -0.343336  0.414134  0.229623"
      ]
     },
     "execution_count": 10,
     "metadata": {},
     "output_type": "execute_result"
    }
   ],
   "source": [
    "df1.index=['2019-01-27', '2019-01-25', '2019-01-23', '2019-01-22', \n",
    "          '2019-01-24', '2019-01-26']\n",
    "df1"
   ]
  },
  {
   "cell_type": "code",
   "execution_count": 11,
   "metadata": {},
   "outputs": [
    {
     "data": {
      "text/html": [
       "<div>\n",
       "<style scoped>\n",
       "    .dataframe tbody tr th:only-of-type {\n",
       "        vertical-align: middle;\n",
       "    }\n",
       "\n",
       "    .dataframe tbody tr th {\n",
       "        vertical-align: top;\n",
       "    }\n",
       "\n",
       "    .dataframe thead th {\n",
       "        text-align: right;\n",
       "    }\n",
       "</style>\n",
       "<table border=\"1\" class=\"dataframe\">\n",
       "  <thead>\n",
       "    <tr style=\"text-align: right;\">\n",
       "      <th></th>\n",
       "      <th>B</th>\n",
       "      <th>A</th>\n",
       "      <th>D</th>\n",
       "      <th>C</th>\n",
       "    </tr>\n",
       "  </thead>\n",
       "  <tbody>\n",
       "    <tr>\n",
       "      <th>2019-01-22</th>\n",
       "      <td>0.000472</td>\n",
       "      <td>1.039187</td>\n",
       "      <td>-1.686793</td>\n",
       "      <td>-0.152662</td>\n",
       "    </tr>\n",
       "    <tr>\n",
       "      <th>2019-01-23</th>\n",
       "      <td>0.772758</td>\n",
       "      <td>0.488895</td>\n",
       "      <td>-0.937426</td>\n",
       "      <td>-0.357970</td>\n",
       "    </tr>\n",
       "    <tr>\n",
       "      <th>2019-01-24</th>\n",
       "      <td>-0.281552</td>\n",
       "      <td>0.976869</td>\n",
       "      <td>-1.324162</td>\n",
       "      <td>-0.845684</td>\n",
       "    </tr>\n",
       "    <tr>\n",
       "      <th>2019-01-25</th>\n",
       "      <td>1.699208</td>\n",
       "      <td>0.574128</td>\n",
       "      <td>-1.462515</td>\n",
       "      <td>1.497053</td>\n",
       "    </tr>\n",
       "    <tr>\n",
       "      <th>2019-01-26</th>\n",
       "      <td>-0.279657</td>\n",
       "      <td>-0.343336</td>\n",
       "      <td>0.414134</td>\n",
       "      <td>0.229623</td>\n",
       "    </tr>\n",
       "    <tr>\n",
       "      <th>2019-01-27</th>\n",
       "      <td>0.371560</td>\n",
       "      <td>-0.467634</td>\n",
       "      <td>1.194949</td>\n",
       "      <td>-1.114609</td>\n",
       "    </tr>\n",
       "  </tbody>\n",
       "</table>\n",
       "</div>"
      ],
      "text/plain": [
       "                   B         A         D         C\n",
       "2019-01-22  0.000472  1.039187 -1.686793 -0.152662\n",
       "2019-01-23  0.772758  0.488895 -0.937426 -0.357970\n",
       "2019-01-24 -0.281552  0.976869 -1.324162 -0.845684\n",
       "2019-01-25  1.699208  0.574128 -1.462515  1.497053\n",
       "2019-01-26 -0.279657 -0.343336  0.414134  0.229623\n",
       "2019-01-27  0.371560 -0.467634  1.194949 -1.114609"
      ]
     },
     "execution_count": 11,
     "metadata": {},
     "output_type": "execute_result"
    }
   ],
   "source": [
    "# 정렬 - 행의 인덱스 기준, 오름차순\n",
    "df1.sort_index(axis=0)"
   ]
  },
  {
   "cell_type": "code",
   "execution_count": 12,
   "metadata": {},
   "outputs": [
    {
     "data": {
      "text/html": [
       "<div>\n",
       "<style scoped>\n",
       "    .dataframe tbody tr th:only-of-type {\n",
       "        vertical-align: middle;\n",
       "    }\n",
       "\n",
       "    .dataframe tbody tr th {\n",
       "        vertical-align: top;\n",
       "    }\n",
       "\n",
       "    .dataframe thead th {\n",
       "        text-align: right;\n",
       "    }\n",
       "</style>\n",
       "<table border=\"1\" class=\"dataframe\">\n",
       "  <thead>\n",
       "    <tr style=\"text-align: right;\">\n",
       "      <th></th>\n",
       "      <th>B</th>\n",
       "      <th>A</th>\n",
       "      <th>D</th>\n",
       "      <th>C</th>\n",
       "    </tr>\n",
       "  </thead>\n",
       "  <tbody>\n",
       "    <tr>\n",
       "      <th>2019-01-27</th>\n",
       "      <td>0.371560</td>\n",
       "      <td>-0.467634</td>\n",
       "      <td>1.194949</td>\n",
       "      <td>-1.114609</td>\n",
       "    </tr>\n",
       "    <tr>\n",
       "      <th>2019-01-26</th>\n",
       "      <td>-0.279657</td>\n",
       "      <td>-0.343336</td>\n",
       "      <td>0.414134</td>\n",
       "      <td>0.229623</td>\n",
       "    </tr>\n",
       "    <tr>\n",
       "      <th>2019-01-25</th>\n",
       "      <td>1.699208</td>\n",
       "      <td>0.574128</td>\n",
       "      <td>-1.462515</td>\n",
       "      <td>1.497053</td>\n",
       "    </tr>\n",
       "    <tr>\n",
       "      <th>2019-01-24</th>\n",
       "      <td>-0.281552</td>\n",
       "      <td>0.976869</td>\n",
       "      <td>-1.324162</td>\n",
       "      <td>-0.845684</td>\n",
       "    </tr>\n",
       "    <tr>\n",
       "      <th>2019-01-23</th>\n",
       "      <td>0.772758</td>\n",
       "      <td>0.488895</td>\n",
       "      <td>-0.937426</td>\n",
       "      <td>-0.357970</td>\n",
       "    </tr>\n",
       "    <tr>\n",
       "      <th>2019-01-22</th>\n",
       "      <td>0.000472</td>\n",
       "      <td>1.039187</td>\n",
       "      <td>-1.686793</td>\n",
       "      <td>-0.152662</td>\n",
       "    </tr>\n",
       "  </tbody>\n",
       "</table>\n",
       "</div>"
      ],
      "text/plain": [
       "                   B         A         D         C\n",
       "2019-01-27  0.371560 -0.467634  1.194949 -1.114609\n",
       "2019-01-26 -0.279657 -0.343336  0.414134  0.229623\n",
       "2019-01-25  1.699208  0.574128 -1.462515  1.497053\n",
       "2019-01-24 -0.281552  0.976869 -1.324162 -0.845684\n",
       "2019-01-23  0.772758  0.488895 -0.937426 -0.357970\n",
       "2019-01-22  0.000472  1.039187 -1.686793 -0.152662"
      ]
     },
     "execution_count": 12,
     "metadata": {},
     "output_type": "execute_result"
    }
   ],
   "source": [
    "# 정렬 - 행의 인덱스 기준, 내림차순\n",
    "df1.sort_index(axis=0, ascending=False)"
   ]
  },
  {
   "cell_type": "code",
   "execution_count": 18,
   "metadata": {},
   "outputs": [
    {
     "data": {
      "text/html": [
       "<div>\n",
       "<style scoped>\n",
       "    .dataframe tbody tr th:only-of-type {\n",
       "        vertical-align: middle;\n",
       "    }\n",
       "\n",
       "    .dataframe tbody tr th {\n",
       "        vertical-align: top;\n",
       "    }\n",
       "\n",
       "    .dataframe thead th {\n",
       "        text-align: right;\n",
       "    }\n",
       "</style>\n",
       "<table border=\"1\" class=\"dataframe\">\n",
       "  <thead>\n",
       "    <tr style=\"text-align: right;\">\n",
       "      <th></th>\n",
       "      <th>A</th>\n",
       "      <th>B</th>\n",
       "      <th>C</th>\n",
       "      <th>D</th>\n",
       "    </tr>\n",
       "  </thead>\n",
       "  <tbody>\n",
       "    <tr>\n",
       "      <th>2019-01-27</th>\n",
       "      <td>-0.467634</td>\n",
       "      <td>0.371560</td>\n",
       "      <td>-1.114609</td>\n",
       "      <td>1.194949</td>\n",
       "    </tr>\n",
       "    <tr>\n",
       "      <th>2019-01-25</th>\n",
       "      <td>0.574128</td>\n",
       "      <td>1.699208</td>\n",
       "      <td>1.497053</td>\n",
       "      <td>-1.462515</td>\n",
       "    </tr>\n",
       "    <tr>\n",
       "      <th>2019-01-23</th>\n",
       "      <td>0.488895</td>\n",
       "      <td>0.772758</td>\n",
       "      <td>-0.357970</td>\n",
       "      <td>-0.937426</td>\n",
       "    </tr>\n",
       "    <tr>\n",
       "      <th>2019-01-22</th>\n",
       "      <td>1.039187</td>\n",
       "      <td>0.000472</td>\n",
       "      <td>-0.152662</td>\n",
       "      <td>-1.686793</td>\n",
       "    </tr>\n",
       "    <tr>\n",
       "      <th>2019-01-24</th>\n",
       "      <td>0.976869</td>\n",
       "      <td>-0.281552</td>\n",
       "      <td>-0.845684</td>\n",
       "      <td>-1.324162</td>\n",
       "    </tr>\n",
       "    <tr>\n",
       "      <th>2019-01-26</th>\n",
       "      <td>-0.343336</td>\n",
       "      <td>-0.279657</td>\n",
       "      <td>0.229623</td>\n",
       "      <td>0.414134</td>\n",
       "    </tr>\n",
       "  </tbody>\n",
       "</table>\n",
       "</div>"
      ],
      "text/plain": [
       "                   A         B         C         D\n",
       "2019-01-27 -0.467634  0.371560 -1.114609  1.194949\n",
       "2019-01-25  0.574128  1.699208  1.497053 -1.462515\n",
       "2019-01-23  0.488895  0.772758 -0.357970 -0.937426\n",
       "2019-01-22  1.039187  0.000472 -0.152662 -1.686793\n",
       "2019-01-24  0.976869 -0.281552 -0.845684 -1.324162\n",
       "2019-01-26 -0.343336 -0.279657  0.229623  0.414134"
      ]
     },
     "execution_count": 18,
     "metadata": {},
     "output_type": "execute_result"
    }
   ],
   "source": [
    "# 정렬 - 열의 인덱스 기준, 내림차순\n",
    "df1.sort_index(axis=1)"
   ]
  },
  {
   "cell_type": "code",
   "execution_count": 22,
   "metadata": {},
   "outputs": [
    {
     "data": {
      "text/html": [
       "<div>\n",
       "<style scoped>\n",
       "    .dataframe tbody tr th:only-of-type {\n",
       "        vertical-align: middle;\n",
       "    }\n",
       "\n",
       "    .dataframe tbody tr th {\n",
       "        vertical-align: top;\n",
       "    }\n",
       "\n",
       "    .dataframe thead th {\n",
       "        text-align: right;\n",
       "    }\n",
       "</style>\n",
       "<table border=\"1\" class=\"dataframe\">\n",
       "  <thead>\n",
       "    <tr style=\"text-align: right;\">\n",
       "      <th></th>\n",
       "      <th>D</th>\n",
       "      <th>C</th>\n",
       "      <th>B</th>\n",
       "      <th>A</th>\n",
       "    </tr>\n",
       "  </thead>\n",
       "  <tbody>\n",
       "    <tr>\n",
       "      <th>2019-01-27</th>\n",
       "      <td>1.194949</td>\n",
       "      <td>-1.114609</td>\n",
       "      <td>0.371560</td>\n",
       "      <td>-0.467634</td>\n",
       "    </tr>\n",
       "    <tr>\n",
       "      <th>2019-01-25</th>\n",
       "      <td>-1.462515</td>\n",
       "      <td>1.497053</td>\n",
       "      <td>1.699208</td>\n",
       "      <td>0.574128</td>\n",
       "    </tr>\n",
       "    <tr>\n",
       "      <th>2019-01-23</th>\n",
       "      <td>-0.937426</td>\n",
       "      <td>-0.357970</td>\n",
       "      <td>0.772758</td>\n",
       "      <td>0.488895</td>\n",
       "    </tr>\n",
       "    <tr>\n",
       "      <th>2019-01-22</th>\n",
       "      <td>-1.686793</td>\n",
       "      <td>-0.152662</td>\n",
       "      <td>0.000472</td>\n",
       "      <td>1.039187</td>\n",
       "    </tr>\n",
       "    <tr>\n",
       "      <th>2019-01-24</th>\n",
       "      <td>-1.324162</td>\n",
       "      <td>-0.845684</td>\n",
       "      <td>-0.281552</td>\n",
       "      <td>0.976869</td>\n",
       "    </tr>\n",
       "    <tr>\n",
       "      <th>2019-01-26</th>\n",
       "      <td>0.414134</td>\n",
       "      <td>0.229623</td>\n",
       "      <td>-0.279657</td>\n",
       "      <td>-0.343336</td>\n",
       "    </tr>\n",
       "  </tbody>\n",
       "</table>\n",
       "</div>"
      ],
      "text/plain": [
       "                   D         C         B         A\n",
       "2019-01-27  1.194949 -1.114609  0.371560 -0.467634\n",
       "2019-01-25 -1.462515  1.497053  1.699208  0.574128\n",
       "2019-01-23 -0.937426 -0.357970  0.772758  0.488895\n",
       "2019-01-22 -1.686793 -0.152662  0.000472  1.039187\n",
       "2019-01-24 -1.324162 -0.845684 -0.281552  0.976869\n",
       "2019-01-26  0.414134  0.229623 -0.279657 -0.343336"
      ]
     },
     "execution_count": 22,
     "metadata": {},
     "output_type": "execute_result"
    }
   ],
   "source": [
    "df1.sort_index(axis=1, ascending=False)"
   ]
  },
  {
   "cell_type": "markdown",
   "metadata": {},
   "source": [
    "## 값 기준으로 정렬하기\n",
    "- 데이터프레임이름.sort_values(by=\"컬럼명\")"
   ]
  },
  {
   "cell_type": "code",
   "execution_count": 23,
   "metadata": {},
   "outputs": [
    {
     "data": {
      "text/html": [
       "<div>\n",
       "<style scoped>\n",
       "    .dataframe tbody tr th:only-of-type {\n",
       "        vertical-align: middle;\n",
       "    }\n",
       "\n",
       "    .dataframe tbody tr th {\n",
       "        vertical-align: top;\n",
       "    }\n",
       "\n",
       "    .dataframe thead th {\n",
       "        text-align: right;\n",
       "    }\n",
       "</style>\n",
       "<table border=\"1\" class=\"dataframe\">\n",
       "  <thead>\n",
       "    <tr style=\"text-align: right;\">\n",
       "      <th></th>\n",
       "      <th>B</th>\n",
       "      <th>A</th>\n",
       "      <th>D</th>\n",
       "      <th>C</th>\n",
       "    </tr>\n",
       "  </thead>\n",
       "  <tbody>\n",
       "    <tr>\n",
       "      <th>2019-01-27</th>\n",
       "      <td>0.371560</td>\n",
       "      <td>-0.467634</td>\n",
       "      <td>1.194949</td>\n",
       "      <td>-1.114609</td>\n",
       "    </tr>\n",
       "    <tr>\n",
       "      <th>2019-01-25</th>\n",
       "      <td>1.699208</td>\n",
       "      <td>0.574128</td>\n",
       "      <td>-1.462515</td>\n",
       "      <td>1.497053</td>\n",
       "    </tr>\n",
       "    <tr>\n",
       "      <th>2019-01-23</th>\n",
       "      <td>0.772758</td>\n",
       "      <td>0.488895</td>\n",
       "      <td>-0.937426</td>\n",
       "      <td>-0.357970</td>\n",
       "    </tr>\n",
       "    <tr>\n",
       "      <th>2019-01-22</th>\n",
       "      <td>0.000472</td>\n",
       "      <td>1.039187</td>\n",
       "      <td>-1.686793</td>\n",
       "      <td>-0.152662</td>\n",
       "    </tr>\n",
       "    <tr>\n",
       "      <th>2019-01-24</th>\n",
       "      <td>-0.281552</td>\n",
       "      <td>0.976869</td>\n",
       "      <td>-1.324162</td>\n",
       "      <td>-0.845684</td>\n",
       "    </tr>\n",
       "    <tr>\n",
       "      <th>2019-01-26</th>\n",
       "      <td>-0.279657</td>\n",
       "      <td>-0.343336</td>\n",
       "      <td>0.414134</td>\n",
       "      <td>0.229623</td>\n",
       "    </tr>\n",
       "  </tbody>\n",
       "</table>\n",
       "</div>"
      ],
      "text/plain": [
       "                   B         A         D         C\n",
       "2019-01-27  0.371560 -0.467634  1.194949 -1.114609\n",
       "2019-01-25  1.699208  0.574128 -1.462515  1.497053\n",
       "2019-01-23  0.772758  0.488895 -0.937426 -0.357970\n",
       "2019-01-22  0.000472  1.039187 -1.686793 -0.152662\n",
       "2019-01-24 -0.281552  0.976869 -1.324162 -0.845684\n",
       "2019-01-26 -0.279657 -0.343336  0.414134  0.229623"
      ]
     },
     "execution_count": 23,
     "metadata": {},
     "output_type": "execute_result"
    }
   ],
   "source": [
    "df1"
   ]
  },
  {
   "cell_type": "code",
   "execution_count": 24,
   "metadata": {},
   "outputs": [
    {
     "data": {
      "text/html": [
       "<div>\n",
       "<style scoped>\n",
       "    .dataframe tbody tr th:only-of-type {\n",
       "        vertical-align: middle;\n",
       "    }\n",
       "\n",
       "    .dataframe tbody tr th {\n",
       "        vertical-align: top;\n",
       "    }\n",
       "\n",
       "    .dataframe thead th {\n",
       "        text-align: right;\n",
       "    }\n",
       "</style>\n",
       "<table border=\"1\" class=\"dataframe\">\n",
       "  <thead>\n",
       "    <tr style=\"text-align: right;\">\n",
       "      <th></th>\n",
       "      <th>B</th>\n",
       "      <th>A</th>\n",
       "      <th>D</th>\n",
       "      <th>C</th>\n",
       "    </tr>\n",
       "  </thead>\n",
       "  <tbody>\n",
       "    <tr>\n",
       "      <th>2019-01-24</th>\n",
       "      <td>-0.281552</td>\n",
       "      <td>0.976869</td>\n",
       "      <td>-1.324162</td>\n",
       "      <td>-0.845684</td>\n",
       "    </tr>\n",
       "    <tr>\n",
       "      <th>2019-01-26</th>\n",
       "      <td>-0.279657</td>\n",
       "      <td>-0.343336</td>\n",
       "      <td>0.414134</td>\n",
       "      <td>0.229623</td>\n",
       "    </tr>\n",
       "    <tr>\n",
       "      <th>2019-01-22</th>\n",
       "      <td>0.000472</td>\n",
       "      <td>1.039187</td>\n",
       "      <td>-1.686793</td>\n",
       "      <td>-0.152662</td>\n",
       "    </tr>\n",
       "    <tr>\n",
       "      <th>2019-01-27</th>\n",
       "      <td>0.371560</td>\n",
       "      <td>-0.467634</td>\n",
       "      <td>1.194949</td>\n",
       "      <td>-1.114609</td>\n",
       "    </tr>\n",
       "    <tr>\n",
       "      <th>2019-01-23</th>\n",
       "      <td>0.772758</td>\n",
       "      <td>0.488895</td>\n",
       "      <td>-0.937426</td>\n",
       "      <td>-0.357970</td>\n",
       "    </tr>\n",
       "    <tr>\n",
       "      <th>2019-01-25</th>\n",
       "      <td>1.699208</td>\n",
       "      <td>0.574128</td>\n",
       "      <td>-1.462515</td>\n",
       "      <td>1.497053</td>\n",
       "    </tr>\n",
       "  </tbody>\n",
       "</table>\n",
       "</div>"
      ],
      "text/plain": [
       "                   B         A         D         C\n",
       "2019-01-24 -0.281552  0.976869 -1.324162 -0.845684\n",
       "2019-01-26 -0.279657 -0.343336  0.414134  0.229623\n",
       "2019-01-22  0.000472  1.039187 -1.686793 -0.152662\n",
       "2019-01-27  0.371560 -0.467634  1.194949 -1.114609\n",
       "2019-01-23  0.772758  0.488895 -0.937426 -0.357970\n",
       "2019-01-25  1.699208  0.574128 -1.462515  1.497053"
      ]
     },
     "execution_count": 24,
     "metadata": {},
     "output_type": "execute_result"
    }
   ],
   "source": [
    "result = df1.sort_values(by='B')\n",
    "result"
   ]
  },
  {
   "cell_type": "code",
   "execution_count": 25,
   "metadata": {
    "scrolled": true
   },
   "outputs": [
    {
     "data": {
      "text/plain": [
       "2019-01-24   -0.281552\n",
       "2019-01-26   -0.279657\n",
       "2019-01-22    0.000472\n",
       "2019-01-27    0.371560\n",
       "2019-01-23    0.772758\n",
       "2019-01-25    1.699208\n",
       "Name: B, dtype: float64"
      ]
     },
     "execution_count": 25,
     "metadata": {},
     "output_type": "execute_result"
    }
   ],
   "source": [
    "# Series로 추출\n",
    "result.B"
   ]
  },
  {
   "cell_type": "markdown",
   "metadata": {},
   "source": [
    "### 중복 제거하기\n",
    "- 데이터이름[열이름].unique()"
   ]
  },
  {
   "cell_type": "code",
   "execution_count": 26,
   "metadata": {},
   "outputs": [
    {
     "data": {
      "text/html": [
       "<div>\n",
       "<style scoped>\n",
       "    .dataframe tbody tr th:only-of-type {\n",
       "        vertical-align: middle;\n",
       "    }\n",
       "\n",
       "    .dataframe tbody tr th {\n",
       "        vertical-align: top;\n",
       "    }\n",
       "\n",
       "    .dataframe thead th {\n",
       "        text-align: right;\n",
       "    }\n",
       "</style>\n",
       "<table border=\"1\" class=\"dataframe\">\n",
       "  <thead>\n",
       "    <tr style=\"text-align: right;\">\n",
       "      <th></th>\n",
       "      <th>B</th>\n",
       "      <th>A</th>\n",
       "      <th>D</th>\n",
       "      <th>C</th>\n",
       "    </tr>\n",
       "  </thead>\n",
       "  <tbody>\n",
       "    <tr>\n",
       "      <th>2019-01-27</th>\n",
       "      <td>0.371560</td>\n",
       "      <td>-0.467634</td>\n",
       "      <td>1.194949</td>\n",
       "      <td>-1.114609</td>\n",
       "    </tr>\n",
       "    <tr>\n",
       "      <th>2019-01-25</th>\n",
       "      <td>1.699208</td>\n",
       "      <td>0.574128</td>\n",
       "      <td>-1.462515</td>\n",
       "      <td>1.497053</td>\n",
       "    </tr>\n",
       "    <tr>\n",
       "      <th>2019-01-23</th>\n",
       "      <td>0.772758</td>\n",
       "      <td>0.488895</td>\n",
       "      <td>-0.937426</td>\n",
       "      <td>-0.357970</td>\n",
       "    </tr>\n",
       "    <tr>\n",
       "      <th>2019-01-22</th>\n",
       "      <td>0.000472</td>\n",
       "      <td>1.039187</td>\n",
       "      <td>-1.686793</td>\n",
       "      <td>-0.152662</td>\n",
       "    </tr>\n",
       "    <tr>\n",
       "      <th>2019-01-24</th>\n",
       "      <td>-0.281552</td>\n",
       "      <td>0.976869</td>\n",
       "      <td>-1.324162</td>\n",
       "      <td>-0.845684</td>\n",
       "    </tr>\n",
       "    <tr>\n",
       "      <th>2019-01-26</th>\n",
       "      <td>-0.279657</td>\n",
       "      <td>-0.343336</td>\n",
       "      <td>0.414134</td>\n",
       "      <td>0.229623</td>\n",
       "    </tr>\n",
       "  </tbody>\n",
       "</table>\n",
       "</div>"
      ],
      "text/plain": [
       "                   B         A         D         C\n",
       "2019-01-27  0.371560 -0.467634  1.194949 -1.114609\n",
       "2019-01-25  1.699208  0.574128 -1.462515  1.497053\n",
       "2019-01-23  0.772758  0.488895 -0.937426 -0.357970\n",
       "2019-01-22  0.000472  1.039187 -1.686793 -0.152662\n",
       "2019-01-24 -0.281552  0.976869 -1.324162 -0.845684\n",
       "2019-01-26 -0.279657 -0.343336  0.414134  0.229623"
      ]
     },
     "execution_count": 26,
     "metadata": {},
     "output_type": "execute_result"
    }
   ],
   "source": [
    "df1"
   ]
  },
  {
   "cell_type": "code",
   "execution_count": 27,
   "metadata": {},
   "outputs": [
    {
     "data": {
      "text/html": [
       "<div>\n",
       "<style scoped>\n",
       "    .dataframe tbody tr th:only-of-type {\n",
       "        vertical-align: middle;\n",
       "    }\n",
       "\n",
       "    .dataframe tbody tr th {\n",
       "        vertical-align: top;\n",
       "    }\n",
       "\n",
       "    .dataframe thead th {\n",
       "        text-align: right;\n",
       "    }\n",
       "</style>\n",
       "<table border=\"1\" class=\"dataframe\">\n",
       "  <thead>\n",
       "    <tr style=\"text-align: right;\">\n",
       "      <th></th>\n",
       "      <th>B</th>\n",
       "      <th>A</th>\n",
       "      <th>D</th>\n",
       "      <th>C</th>\n",
       "      <th>E</th>\n",
       "      <th>F</th>\n",
       "    </tr>\n",
       "  </thead>\n",
       "  <tbody>\n",
       "    <tr>\n",
       "      <th>2019-01-27</th>\n",
       "      <td>0.371560</td>\n",
       "      <td>-0.467634</td>\n",
       "      <td>1.194949</td>\n",
       "      <td>-1.114609</td>\n",
       "      <td>2</td>\n",
       "      <td>alpha</td>\n",
       "    </tr>\n",
       "    <tr>\n",
       "      <th>2019-01-25</th>\n",
       "      <td>1.699208</td>\n",
       "      <td>0.574128</td>\n",
       "      <td>-1.462515</td>\n",
       "      <td>1.497053</td>\n",
       "      <td>4</td>\n",
       "      <td>beta</td>\n",
       "    </tr>\n",
       "    <tr>\n",
       "      <th>2019-01-23</th>\n",
       "      <td>0.772758</td>\n",
       "      <td>0.488895</td>\n",
       "      <td>-0.937426</td>\n",
       "      <td>-0.357970</td>\n",
       "      <td>2</td>\n",
       "      <td>gamma</td>\n",
       "    </tr>\n",
       "    <tr>\n",
       "      <th>2019-01-22</th>\n",
       "      <td>0.000472</td>\n",
       "      <td>1.039187</td>\n",
       "      <td>-1.686793</td>\n",
       "      <td>-0.152662</td>\n",
       "      <td>1</td>\n",
       "      <td>beta</td>\n",
       "    </tr>\n",
       "    <tr>\n",
       "      <th>2019-01-24</th>\n",
       "      <td>-0.281552</td>\n",
       "      <td>0.976869</td>\n",
       "      <td>-1.324162</td>\n",
       "      <td>-0.845684</td>\n",
       "      <td>5</td>\n",
       "      <td>gamma</td>\n",
       "    </tr>\n",
       "    <tr>\n",
       "      <th>2019-01-26</th>\n",
       "      <td>-0.279657</td>\n",
       "      <td>-0.343336</td>\n",
       "      <td>0.414134</td>\n",
       "      <td>0.229623</td>\n",
       "      <td>4</td>\n",
       "      <td>alpha</td>\n",
       "    </tr>\n",
       "  </tbody>\n",
       "</table>\n",
       "</div>"
      ],
      "text/plain": [
       "                   B         A         D         C  E      F\n",
       "2019-01-27  0.371560 -0.467634  1.194949 -1.114609  2  alpha\n",
       "2019-01-25  1.699208  0.574128 -1.462515  1.497053  4   beta\n",
       "2019-01-23  0.772758  0.488895 -0.937426 -0.357970  2  gamma\n",
       "2019-01-22  0.000472  1.039187 -1.686793 -0.152662  1   beta\n",
       "2019-01-24 -0.281552  0.976869 -1.324162 -0.845684  5  gamma\n",
       "2019-01-26 -0.279657 -0.343336  0.414134  0.229623  4  alpha"
      ]
     },
     "execution_count": 27,
     "metadata": {},
     "output_type": "execute_result"
    }
   ],
   "source": [
    "# 2개의 새로운 컬럼 추가\n",
    "df1[\"E\"] = [2, 4, 2, 1, 5, 4]\n",
    "df1[\"F\"] = [\"alpha\", \"beta\", \"gamma\", \"beta\", \"gamma\", \"alpha\"]\n",
    "df1"
   ]
  },
  {
   "cell_type": "code",
   "execution_count": 28,
   "metadata": {},
   "outputs": [
    {
     "data": {
      "text/plain": [
       "array([2, 4, 1, 5], dtype=int64)"
      ]
     },
     "execution_count": 28,
     "metadata": {},
     "output_type": "execute_result"
    }
   ],
   "source": [
    "df1['E'].unique()"
   ]
  },
  {
   "cell_type": "code",
   "execution_count": 29,
   "metadata": {},
   "outputs": [
    {
     "data": {
      "text/plain": [
       "array(['alpha', 'beta', 'gamma'], dtype=object)"
      ]
     },
     "execution_count": 29,
     "metadata": {},
     "output_type": "execute_result"
    }
   ],
   "source": [
    "df1['F'].unique()"
   ]
  },
  {
   "cell_type": "markdown",
   "metadata": {},
   "source": [
    "## 특정값의 카운트\n",
    "- 데이터프레임이름[열이름].value_counts()"
   ]
  },
  {
   "cell_type": "code",
   "execution_count": 30,
   "metadata": {},
   "outputs": [
    {
     "data": {
      "text/html": [
       "<div>\n",
       "<style scoped>\n",
       "    .dataframe tbody tr th:only-of-type {\n",
       "        vertical-align: middle;\n",
       "    }\n",
       "\n",
       "    .dataframe tbody tr th {\n",
       "        vertical-align: top;\n",
       "    }\n",
       "\n",
       "    .dataframe thead th {\n",
       "        text-align: right;\n",
       "    }\n",
       "</style>\n",
       "<table border=\"1\" class=\"dataframe\">\n",
       "  <thead>\n",
       "    <tr style=\"text-align: right;\">\n",
       "      <th></th>\n",
       "      <th>A</th>\n",
       "      <th>B</th>\n",
       "      <th>C</th>\n",
       "      <th>D</th>\n",
       "      <th>E</th>\n",
       "    </tr>\n",
       "  </thead>\n",
       "  <tbody>\n",
       "    <tr>\n",
       "      <th>2019-01-22</th>\n",
       "      <td>0.852182</td>\n",
       "      <td>-1.745750</td>\n",
       "      <td>0.787245</td>\n",
       "      <td>0.771620</td>\n",
       "      <td>alpha</td>\n",
       "    </tr>\n",
       "    <tr>\n",
       "      <th>2019-01-23</th>\n",
       "      <td>0.428871</td>\n",
       "      <td>-0.984189</td>\n",
       "      <td>-1.756809</td>\n",
       "      <td>1.006113</td>\n",
       "      <td>beta</td>\n",
       "    </tr>\n",
       "    <tr>\n",
       "      <th>2019-01-24</th>\n",
       "      <td>0.140057</td>\n",
       "      <td>-0.428024</td>\n",
       "      <td>-0.802818</td>\n",
       "      <td>1.374216</td>\n",
       "      <td>gamma</td>\n",
       "    </tr>\n",
       "    <tr>\n",
       "      <th>2019-01-25</th>\n",
       "      <td>-2.558760</td>\n",
       "      <td>-1.032866</td>\n",
       "      <td>0.718476</td>\n",
       "      <td>1.708555</td>\n",
       "      <td>beta</td>\n",
       "    </tr>\n",
       "    <tr>\n",
       "      <th>2019-01-26</th>\n",
       "      <td>1.129068</td>\n",
       "      <td>0.614449</td>\n",
       "      <td>0.417485</td>\n",
       "      <td>1.003282</td>\n",
       "      <td>gamma</td>\n",
       "    </tr>\n",
       "    <tr>\n",
       "      <th>2019-01-27</th>\n",
       "      <td>-2.179285</td>\n",
       "      <td>0.449640</td>\n",
       "      <td>0.336555</td>\n",
       "      <td>1.696751</td>\n",
       "      <td>alpha</td>\n",
       "    </tr>\n",
       "  </tbody>\n",
       "</table>\n",
       "</div>"
      ],
      "text/plain": [
       "                   A         B         C         D      E\n",
       "2019-01-22  0.852182 -1.745750  0.787245  0.771620  alpha\n",
       "2019-01-23  0.428871 -0.984189 -1.756809  1.006113   beta\n",
       "2019-01-24  0.140057 -0.428024 -0.802818  1.374216  gamma\n",
       "2019-01-25 -2.558760 -1.032866  0.718476  1.708555   beta\n",
       "2019-01-26  1.129068  0.614449  0.417485  1.003282  gamma\n",
       "2019-01-27 -2.179285  0.449640  0.336555  1.696751  alpha"
      ]
     },
     "execution_count": 30,
     "metadata": {},
     "output_type": "execute_result"
    }
   ],
   "source": [
    "df2 = pd.DataFrame(np.random.randn(6, 4),\n",
    "                  columns = ['A', 'B', 'C', 'D'],\n",
    "                  index = pd.date_range('20190122', periods=6))\n",
    "\n",
    "df2[\"E\"] = [\"alpha\", \"beta\", \"gamma\", \"beta\", \"gamma\", \"alpha\"]\n",
    "df2"
   ]
  },
  {
   "cell_type": "code",
   "execution_count": 33,
   "metadata": {},
   "outputs": [
    {
     "data": {
      "text/plain": [
       "beta     2\n",
       "alpha    2\n",
       "gamma    2\n",
       "Name: E, dtype: int64"
      ]
     },
     "execution_count": 33,
     "metadata": {},
     "output_type": "execute_result"
    }
   ],
   "source": [
    "df2['E'].value_counts()"
   ]
  },
  {
   "cell_type": "markdown",
   "metadata": {},
   "source": [
    "## isin()\n",
    "- 데이터프레임이름.isin([데이터값1], [데이터값2])\n",
    "- 데이터프레임이름[컬럼명].isin([데이터값1], [데이터값2])"
   ]
  },
  {
   "cell_type": "code",
   "execution_count": 34,
   "metadata": {},
   "outputs": [
    {
     "data": {
      "text/html": [
       "<div>\n",
       "<style scoped>\n",
       "    .dataframe tbody tr th:only-of-type {\n",
       "        vertical-align: middle;\n",
       "    }\n",
       "\n",
       "    .dataframe tbody tr th {\n",
       "        vertical-align: top;\n",
       "    }\n",
       "\n",
       "    .dataframe thead th {\n",
       "        text-align: right;\n",
       "    }\n",
       "</style>\n",
       "<table border=\"1\" class=\"dataframe\">\n",
       "  <thead>\n",
       "    <tr style=\"text-align: right;\">\n",
       "      <th></th>\n",
       "      <th>A</th>\n",
       "      <th>B</th>\n",
       "      <th>C</th>\n",
       "      <th>D</th>\n",
       "      <th>E</th>\n",
       "    </tr>\n",
       "  </thead>\n",
       "  <tbody>\n",
       "    <tr>\n",
       "      <th>2019-01-22</th>\n",
       "      <td>False</td>\n",
       "      <td>False</td>\n",
       "      <td>False</td>\n",
       "      <td>False</td>\n",
       "      <td>True</td>\n",
       "    </tr>\n",
       "    <tr>\n",
       "      <th>2019-01-23</th>\n",
       "      <td>False</td>\n",
       "      <td>False</td>\n",
       "      <td>False</td>\n",
       "      <td>False</td>\n",
       "      <td>False</td>\n",
       "    </tr>\n",
       "    <tr>\n",
       "      <th>2019-01-24</th>\n",
       "      <td>False</td>\n",
       "      <td>False</td>\n",
       "      <td>False</td>\n",
       "      <td>False</td>\n",
       "      <td>False</td>\n",
       "    </tr>\n",
       "    <tr>\n",
       "      <th>2019-01-25</th>\n",
       "      <td>False</td>\n",
       "      <td>False</td>\n",
       "      <td>False</td>\n",
       "      <td>False</td>\n",
       "      <td>False</td>\n",
       "    </tr>\n",
       "    <tr>\n",
       "      <th>2019-01-26</th>\n",
       "      <td>False</td>\n",
       "      <td>False</td>\n",
       "      <td>False</td>\n",
       "      <td>False</td>\n",
       "      <td>False</td>\n",
       "    </tr>\n",
       "    <tr>\n",
       "      <th>2019-01-27</th>\n",
       "      <td>False</td>\n",
       "      <td>False</td>\n",
       "      <td>False</td>\n",
       "      <td>False</td>\n",
       "      <td>True</td>\n",
       "    </tr>\n",
       "  </tbody>\n",
       "</table>\n",
       "</div>"
      ],
      "text/plain": [
       "                A      B      C      D      E\n",
       "2019-01-22  False  False  False  False   True\n",
       "2019-01-23  False  False  False  False  False\n",
       "2019-01-24  False  False  False  False  False\n",
       "2019-01-25  False  False  False  False  False\n",
       "2019-01-26  False  False  False  False  False\n",
       "2019-01-27  False  False  False  False   True"
      ]
     },
     "execution_count": 34,
     "metadata": {},
     "output_type": "execute_result"
    }
   ],
   "source": [
    "df2.isin(['alpha'])"
   ]
  },
  {
   "cell_type": "code",
   "execution_count": 35,
   "metadata": {},
   "outputs": [
    {
     "data": {
      "text/plain": [
       "2019-01-22     True\n",
       "2019-01-23    False\n",
       "2019-01-24    False\n",
       "2019-01-25    False\n",
       "2019-01-26    False\n",
       "2019-01-27     True\n",
       "Freq: D, Name: E, dtype: bool"
      ]
     },
     "execution_count": 35,
     "metadata": {},
     "output_type": "execute_result"
    }
   ],
   "source": [
    "df2['E'].isin(['alpha'])"
   ]
  },
  {
   "cell_type": "code",
   "execution_count": 36,
   "metadata": {},
   "outputs": [
    {
     "data": {
      "text/plain": [
       "2019-01-22     True\n",
       "2019-01-23    False\n",
       "2019-01-24     True\n",
       "2019-01-25    False\n",
       "2019-01-26     True\n",
       "2019-01-27     True\n",
       "Freq: D, Name: E, dtype: bool"
      ]
     },
     "execution_count": 36,
     "metadata": {},
     "output_type": "execute_result"
    }
   ],
   "source": [
    "df2['E'].isin(['alpha', 'gamma'])"
   ]
  },
  {
   "cell_type": "code",
   "execution_count": 37,
   "metadata": {},
   "outputs": [
    {
     "data": {
      "text/html": [
       "<div>\n",
       "<style scoped>\n",
       "    .dataframe tbody tr th:only-of-type {\n",
       "        vertical-align: middle;\n",
       "    }\n",
       "\n",
       "    .dataframe tbody tr th {\n",
       "        vertical-align: top;\n",
       "    }\n",
       "\n",
       "    .dataframe thead th {\n",
       "        text-align: right;\n",
       "    }\n",
       "</style>\n",
       "<table border=\"1\" class=\"dataframe\">\n",
       "  <thead>\n",
       "    <tr style=\"text-align: right;\">\n",
       "      <th></th>\n",
       "      <th>A</th>\n",
       "      <th>B</th>\n",
       "      <th>C</th>\n",
       "      <th>D</th>\n",
       "      <th>E</th>\n",
       "    </tr>\n",
       "  </thead>\n",
       "  <tbody>\n",
       "    <tr>\n",
       "      <th>2019-01-22</th>\n",
       "      <td>0.852182</td>\n",
       "      <td>-1.74575</td>\n",
       "      <td>0.787245</td>\n",
       "      <td>0.771620</td>\n",
       "      <td>alpha</td>\n",
       "    </tr>\n",
       "    <tr>\n",
       "      <th>2019-01-27</th>\n",
       "      <td>-2.179285</td>\n",
       "      <td>0.44964</td>\n",
       "      <td>0.336555</td>\n",
       "      <td>1.696751</td>\n",
       "      <td>alpha</td>\n",
       "    </tr>\n",
       "  </tbody>\n",
       "</table>\n",
       "</div>"
      ],
      "text/plain": [
       "                   A        B         C         D      E\n",
       "2019-01-22  0.852182 -1.74575  0.787245  0.771620  alpha\n",
       "2019-01-27 -2.179285  0.44964  0.336555  1.696751  alpha"
      ]
     },
     "execution_count": 37,
     "metadata": {},
     "output_type": "execute_result"
    }
   ],
   "source": [
    "df2[df2['E'].isin(['alpha'])]"
   ]
  },
  {
   "cell_type": "code",
   "execution_count": null,
   "metadata": {},
   "outputs": [],
   "source": []
  }
 ],
 "metadata": {
  "kernelspec": {
   "display_name": "Python 3",
   "language": "python",
   "name": "python3"
  },
  "language_info": {
   "codemirror_mode": {
    "name": "ipython",
    "version": 3
   },
   "file_extension": ".py",
   "mimetype": "text/x-python",
   "name": "python",
   "nbconvert_exporter": "python",
   "pygments_lexer": "ipython3",
   "version": "3.7.3"
  }
 },
 "nbformat": 4,
 "nbformat_minor": 2
}
