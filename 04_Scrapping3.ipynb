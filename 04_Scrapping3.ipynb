{
 "cells": [
  {
   "cell_type": "markdown",
   "metadata": {},
   "source": [
    "## lxml 사용 기초 스크래핑\n",
    "- 네이버 메인의 신문사 url 갖고 옴 => cssselect 사용\n",
    "- lxml : 웹에서 문서를 갖고 온 후 필요한 부분만 파싱할 때 많이 사용\n",
    "- lxml.html.fromstring() => 웹에서 수신된 데이터를 string으로 변경\n",
    "- pip install cssselect"
   ]
  },
  {
   "cell_type": "code",
   "execution_count": 2,
   "metadata": {},
   "outputs": [],
   "source": [
    "import requests\n",
    "import lxml.html"
   ]
  },
  {
   "cell_type": "code",
   "execution_count": 6,
   "metadata": {},
   "outputs": [],
   "source": [
    "def scrape_news_list_page(response):\n",
    "    #URL 리스트 선언\n",
    "    urls = []\n",
    "    #태그 정보 문자열 저장\n",
    "    root = lxml.html.fromstring(response.content)\n",
    "    \n",
    "    #문서 내 경로 절대 경로 변환\n",
    "    # . : 클래스\n",
    "    for a in root.cssselect('.api_list .api_item a.api_link'):\n",
    "        #링크\n",
    "        url = a.get('href')\n",
    "        #리스트 삽입\n",
    "        urls.append(url)\n",
    "    return urls\n",
    "        "
   ]
  },
  {
   "cell_type": "code",
   "execution_count": 8,
   "metadata": {},
   "outputs": [
    {
     "name": "stdout",
     "output_type": "stream",
     "text": [
      "http://newsstand.naver.com/?list=ct1&pcode=076\n",
      "http://newsstand.naver.com/?list=ct1&pcode=314\n",
      "http://newsstand.naver.com/?list=ct1&pcode=117\n",
      "http://newsstand.naver.com/?list=ct1&pcode=214\n",
      "http://newsstand.naver.com/?list=ct1&pcode=031\n",
      "http://newsstand.naver.com/?list=ct1&pcode=057\n",
      "http://newsstand.naver.com/?list=ct1&pcode=020\n",
      "http://newsstand.naver.com/?list=ct1&pcode=366\n",
      "http://newsstand.naver.com/?list=ct1&pcode=330\n",
      "http://newsstand.naver.com/?list=ct1&pcode=241\n",
      "http://newsstand.naver.com/?list=ct1&pcode=021\n",
      "http://newsstand.naver.com/?list=ct1&pcode=009\n",
      "http://newsstand.naver.com/?list=ct2&pcode=957\n",
      "http://newsstand.naver.com/?list=ct2&pcode=243\n",
      "http://newsstand.naver.com/?list=ct3&pcode=421\n",
      "http://newsstand.naver.com/?list=ct7&pcode=361\n",
      "http://newsstand.naver.com/?list=ct4&pcode=138\n",
      "http://newsstand.naver.com/?list=ct7&pcode=807\n"
     ]
    }
   ],
   "source": [
    "# 스크랩핑 대상 URL\n",
    "response = requests.get('http://naver.com/')\n",
    "\n",
    "# 신문사 링크 리스트 획득\n",
    "urls = scrape_news_list_page(response)\n",
    "\n",
    "# 결과 출력\n",
    "for url in urls:\n",
    "    print(url)"
   ]
  },
  {
   "cell_type": "code",
   "execution_count": null,
   "metadata": {},
   "outputs": [],
   "source": []
  },
  {
   "cell_type": "code",
   "execution_count": null,
   "metadata": {},
   "outputs": [],
   "source": []
  }
 ],
 "metadata": {
  "kernelspec": {
   "display_name": "Python 3",
   "language": "python",
   "name": "python3"
  },
  "language_info": {
   "codemirror_mode": {
    "name": "ipython",
    "version": 3
   },
   "file_extension": ".py",
   "mimetype": "text/x-python",
   "name": "python",
   "nbconvert_exporter": "python",
   "pygments_lexer": "ipython3",
   "version": "3.7.3"
  }
 },
 "nbformat": 4,
 "nbformat_minor": 2
}
