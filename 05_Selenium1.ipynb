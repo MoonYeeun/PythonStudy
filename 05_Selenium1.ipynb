{
 "cells": [
  {
   "cell_type": "markdown",
   "metadata": {},
   "source": [
    "## Selenium\n",
    "- pip install selenium\n",
    "- 크롬 버전 확인 후 https://sites.google.com/a/chromium.org/chromedriver/downloads 에서 웹 드라이버 다운로드\n",
    "- webdriver라는 폴더 생성 후 exe 파일 옮기기"
   ]
  },
  {
   "cell_type": "code",
   "execution_count": 14,
   "metadata": {},
   "outputs": [],
   "source": [
    "from selenium import webdriver"
   ]
  },
  {
   "cell_type": "code",
   "execution_count": 15,
   "metadata": {
    "scrolled": true
   },
   "outputs": [
    {
     "name": "stdout",
     "output_type": "stream",
     "text": [
      "['__class__', '__delattr__', '__dict__', '__dir__', '__doc__', '__enter__', '__eq__', '__exit__', '__format__', '__ge__', '__getattribute__', '__gt__', '__hash__', '__init__', '__init_subclass__', '__le__', '__lt__', '__module__', '__ne__', '__new__', '__reduce__', '__reduce_ex__', '__repr__', '__setattr__', '__sizeof__', '__str__', '__subclasshook__', '__weakref__', '_file_detector', '_is_remote', '_mobile', '_switch_to', '_unwrap_value', '_web_element_cls', '_wrap_value', 'add_cookie', 'application_cache', 'back', 'capabilities', 'close', 'command_executor', 'create_options', 'create_web_element', 'current_url', 'current_window_handle', 'delete_all_cookies', 'delete_cookie', 'desired_capabilities', 'error_handler', 'execute', 'execute_async_script', 'execute_cdp_cmd', 'execute_script', 'file_detector', 'file_detector_context', 'find_element', 'find_element_by_class_name', 'find_element_by_css_selector', 'find_element_by_id', 'find_element_by_link_text', 'find_element_by_name', 'find_element_by_partial_link_text', 'find_element_by_tag_name', 'find_element_by_xpath', 'find_elements', 'find_elements_by_class_name', 'find_elements_by_css_selector', 'find_elements_by_id', 'find_elements_by_link_text', 'find_elements_by_name', 'find_elements_by_partial_link_text', 'find_elements_by_tag_name', 'find_elements_by_xpath', 'forward', 'fullscreen_window', 'get', 'get_cookie', 'get_cookies', 'get_log', 'get_network_conditions', 'get_screenshot_as_base64', 'get_screenshot_as_file', 'get_screenshot_as_png', 'get_window_position', 'get_window_rect', 'get_window_size', 'implicitly_wait', 'launch_app', 'log_types', 'maximize_window', 'minimize_window', 'mobile', 'name', 'orientation', 'page_source', 'quit', 'refresh', 'save_screenshot', 'service', 'session_id', 'set_network_conditions', 'set_page_load_timeout', 'set_script_timeout', 'set_window_position', 'set_window_rect', 'set_window_size', 'start_client', 'start_session', 'stop_client', 'switch_to', 'switch_to_active_element', 'switch_to_alert', 'switch_to_default_content', 'switch_to_frame', 'switch_to_window', 'title', 'w3c', 'window_handles']\n"
     ]
    }
   ],
   "source": [
    "# webdriver 설정(chrome, firefox 등)\n",
    "browser = webdriver.Chrome('../webdriver/chromedriver.exe')\n",
    "\n",
    "# 크롬 브라우저 내부 대기\n",
    "browser.implicitly_wait(5)\n",
    "\n",
    "# 속성 확인\n",
    "print(dir(browser))"
   ]
  },
  {
   "cell_type": "code",
   "execution_count": 16,
   "metadata": {},
   "outputs": [
    {
     "name": "stdout",
     "output_type": "stream",
     "text": [
      "\n",
      "Session ID : 34408c0ef7870b40ec9764ab88148fd6\n",
      "Title : Daum\n",
      "URL : https://www.daum.net/\n",
      "Cookies : [{'domain': 'www.daum.net', 'httpOnly': False, 'name': 'dtck_blog', 'path': '/', 'secure': False, 'value': '-1'}, {'domain': 'www.daum.net', 'httpOnly': False, 'name': 'dtck_media', 'path': '/', 'secure': False, 'value': '-1'}, {'domain': 'daum.net', 'expiry': 2186789343.320641, 'httpOnly': True, 'name': 'TIARA', 'path': '/', 'secure': False, 'value': 'spaPAS68UkI9povH1YYAAZBrhhMFRK2Raceb4gS.jk4UCFpvgjDvH-EQbOgSK7GZ5a7pXBt__3MHi.ywCR83qCp2LFHi6jkB'}, {'domain': 'www.daum.net', 'httpOnly': False, 'name': 'dtmulti', 'path': '/', 'secure': False, 'value': '-1'}, {'domain': 'www.daum.net', 'httpOnly': False, 'name': 'dtck_refresh', 'path': '/', 'secure': False, 'value': '0'}, {'domain': 'www.daum.net', 'httpOnly': False, 'name': 'dtck_photo_slide', 'path': '/', 'secure': False, 'value': '-1'}, {'domain': 'www.daum.net', 'expiry': 1658021343, 'httpOnly': False, 'name': 'dtck_first', 'path': '/', 'secure': False, 'value': '20190802'}, {'domain': 'www.daum.net', 'httpOnly': False, 'name': 'dtck_channel', 'path': '/', 'secure': False, 'value': '-1'}, {'domain': 'www.daum.net', 'expiry': 1564709344, 'httpOnly': False, 'name': 'sf_ck_tst', 'path': '/', 'secure': False, 'value': 'test'}]\n"
     ]
    },
    {
     "data": {
      "text/plain": [
       "True"
      ]
     },
     "execution_count": 16,
     "metadata": {},
     "output_type": "execute_result"
    }
   ],
   "source": [
    "# 브라우저 사이즈\n",
    "browser.set_window_size(1920, 1080)\n",
    "# maximize_window(), minimize_window()\n",
    "\n",
    "# 페이지 이동\n",
    "browser.get(\"http://www.daum.net\")\n",
    "\n",
    "# 페이지 내용\n",
    "# print('Page Contents : {}'.format(browser.page_source))\n",
    "\n",
    "print()\n",
    "\n",
    "# 세션 값 출력\n",
    "# 로그인과 상관 없이 브라우저 접속 시 생성되는 세션 값\n",
    "print('Session ID : {}'.format(browser.session_id))\n",
    "\n",
    "# 타이틀 출력\n",
    "print('Title : {}'.format(browser.title))\n",
    "\n",
    "# 현재 url\n",
    "print('URL : {}'.format(browser.current_url))\n",
    "\n",
    "# 쿠키 정보 확인\n",
    "print('Cookies : {}'.format(browser.get_cookies()))\n",
    "\n",
    "# 검색창 input 선택\n",
    "element = browser.find_element_by_css_selector('div.inner_search > input.tf_keyword')\n",
    "\n",
    "# 검색어 입력\n",
    "element.send_keys('파이썬')\n",
    "\n",
    "# 검색(Form Submit) 엔터\n",
    "element.submit()\n",
    "\n",
    "# 스크린샷 저장1\n",
    "browser.save_screenshot(\"C:/Users/전산실/website_ch1.png\")\n",
    "\n",
    "# 브라우저 종료\n",
    "browser.quit()"
   ]
  },
  {
   "cell_type": "code",
   "execution_count": null,
   "metadata": {},
   "outputs": [],
   "source": []
  },
  {
   "cell_type": "code",
   "execution_count": null,
   "metadata": {},
   "outputs": [],
   "source": []
  },
  {
   "cell_type": "code",
   "execution_count": null,
   "metadata": {},
   "outputs": [],
   "source": []
  }
 ],
 "metadata": {
  "kernelspec": {
   "display_name": "Python 3",
   "language": "python",
   "name": "python3"
  },
  "language_info": {
   "codemirror_mode": {
    "name": "ipython",
    "version": 3
   },
   "file_extension": ".py",
   "mimetype": "text/x-python",
   "name": "python",
   "nbconvert_exporter": "python",
   "pygments_lexer": "ipython3",
   "version": "3.7.3"
  }
 },
 "nbformat": 4,
 "nbformat_minor": 2
}
