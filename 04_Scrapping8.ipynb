{
 "cells": [
  {
   "cell_type": "code",
   "execution_count": 5,
   "metadata": {},
   "outputs": [],
   "source": [
    "import os\n",
    "import urllib.parse as rep\n",
    "import urllib.request as req\n",
    "from fake_useragent import UserAgent\n",
    "\n",
    "from bs4 import BeautifulSoup"
   ]
  },
  {
   "cell_type": "code",
   "execution_count": 4,
   "metadata": {},
   "outputs": [],
   "source": [
    "# Header 정보 초기화\n",
    "opener = req.build_opener()\n",
    "# User-Agent 정보\n",
    "opener.addheaders = [('User-agent', UserAgent().ie)]\n",
    "# Header 정보 삽입\n",
    "req.install_opener(opener)"
   ]
  },
  {
   "cell_type": "code",
   "execution_count": 15,
   "metadata": {},
   "outputs": [],
   "source": [
    "# 네이버 이미지 기본 url(크롬 개발자 도구)\n",
    "base = \"https://search.naver.com/search.naver?where=image&query=\"\n",
    "\n",
    "# 검색어 urlencode(), quote(), quote_plus() => quote() + 공백을 '+' 기호로 변환\n",
    "# 바뀌는 부분은 따로 처리하기\n",
    "quote = rep.quote_plus(\"사모예드\")\n",
    "\n",
    "# url 완성\n",
    "url = base + quote\n",
    "\n",
    "# 요청 url 확인\n",
    "# print('Request URL : ', url)\n",
    "\n",
    "# Request\n",
    "res = req.urlopen(url)"
   ]
  },
  {
   "cell_type": "code",
   "execution_count": 16,
   "metadata": {},
   "outputs": [
    {
     "name": "stdout",
     "output_type": "stream",
     "text": [
      "folder is created!\n"
     ]
    }
   ],
   "source": [
    "# 이미지 저장 경로\n",
    "savePath = \"C:/imagedown/\"\n",
    "\n",
    "# 폴더 생성 예외처리\n",
    "try:\n",
    "    #기존 폴더가 있는지 체크\n",
    "    if not (os.path.isdir(savePath)):\n",
    "        #없으면 폴더 생성\n",
    "        os.makedirs(os.path.join(savePath))\n",
    "except OSError as e:\n",
    "    #     에러내용\n",
    "    print(\"folder creation failed!\")\n",
    "    print(\"folder name : {}\".format(e.filename))\n",
    "    \n",
    "    raise RuntimeError('System Exit!')\n",
    "else:\n",
    "    #     폴더 생성 정상일 경우 실행\n",
    "    print('folder is created!')"
   ]
  },
  {
   "cell_type": "code",
   "execution_count": 17,
   "metadata": {},
   "outputs": [],
   "source": [
    "# bs4 초기화\n",
    "soup = BeautifulSoup(res, \"html.parser\")\n",
    "\n",
    "# select 사용\n",
    "img_list = soup.select(\"div.img_area > a.thumb._thumb > img\")"
   ]
  },
  {
   "cell_type": "code",
   "execution_count": 18,
   "metadata": {},
   "outputs": [],
   "source": [
    "# 이미지 번호를 붙여주면서 다운로드\n",
    "for i, img_list in enumerate(img_list, 1):\n",
    "#     속성 확인\n",
    "#     print(img_list['data-source'])\n",
    "    \n",
    "    fullFileName = os.path.join(savePath, savePath + str(i) + '.png')\n",
    "#     파일명 출력\n",
    "#     print('full name : {}'.format(fullFileName))\n",
    "\n",
    "#     다운로드 요청(url, 저장경로)\n",
    "    req.urlretrieve(img_list['data-source'], fullFileName)"
   ]
  },
  {
   "cell_type": "code",
   "execution_count": 19,
   "metadata": {},
   "outputs": [
    {
     "name": "stdout",
     "output_type": "stream",
     "text": [
      "Download successed!\n"
     ]
    }
   ],
   "source": [
    "# 다운로드 완료 시 출력\n",
    "print(\"Download successed!\")"
   ]
  },
  {
   "cell_type": "code",
   "execution_count": null,
   "metadata": {},
   "outputs": [],
   "source": []
  }
 ],
 "metadata": {
  "kernelspec": {
   "display_name": "Python 3",
   "language": "python",
   "name": "python3"
  },
  "language_info": {
   "codemirror_mode": {
    "name": "ipython",
    "version": 3
   },
   "file_extension": ".py",
   "mimetype": "text/x-python",
   "name": "python",
   "nbconvert_exporter": "python",
   "pygments_lexer": "ipython3",
   "version": "3.7.3"
  }
 },
 "nbformat": 4,
 "nbformat_minor": 2
}
