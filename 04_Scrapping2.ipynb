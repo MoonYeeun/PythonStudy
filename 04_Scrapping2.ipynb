{
 "cells": [
  {
   "cell_type": "markdown",
   "metadata": {},
   "source": [
    "## urlopen 함수 기초 사용법\n",
    "\n",
    "- 네이버에서 고양이로 검색하고 이미지 탭에서 선택한 이미지 URL로 로컬에 파일다운로드\n",
    "- urllib.request.urlopen()\n",
    "- URLError : 잘못된 주소를 요청하는 경우\n",
    "- HTTPError : 서버가 접속이 안되는 경우"
   ]
  },
  {
   "cell_type": "code",
   "execution_count": 1,
   "metadata": {},
   "outputs": [],
   "source": [
    "import urllib.request as req\n",
    "from urllib.error import URLError, HTTPError"
   ]
  },
  {
   "cell_type": "code",
   "execution_count": 2,
   "metadata": {},
   "outputs": [],
   "source": [
    "# 다운로드 경로 및 파일명\n",
    "path_list = [\"C:/Users/전산실/test2.jpg\", \"C:/Users/전산실/index2.html\"]\n",
    "\n",
    "# 다운로드 리소스 URL\n",
    "target_url = [\"http://blogfiles.naver.net/20110517_64/wdr08100_1305570522254Vngeu_JPEG/%B1%CD%BF%A9%BF%EE_%B9%D9%C5%C1%C8%AD%B8%E9_%B0%ED%BE%E7%C0%CC_%B9%E8%B0%E6%C8%AD%B8%E9_1600x1200_149.jpg\",\n",
    "              \"http://google.com\"]"
   ]
  },
  {
   "cell_type": "code",
   "execution_count": 3,
   "metadata": {},
   "outputs": [
    {
     "name": "stdout",
     "output_type": "stream",
     "text": [
      "---------------------------------------------------\n",
      "Header Info-0 : Date: Thu, 01 Aug 2019 01:01:02 GMT\n",
      "Server: Apache\n",
      "P3P: CP=\"ALL CURa ADMa DEVa TAIa OUR BUS IND PHY ONL UNI PUR FIN COM NAV INT DEM CNT STA POL HEA PRE LOC OTC\"\n",
      "Accept-Ranges: bytes\n",
      "Last-Modified: Wed, 31 Jul 2019 04:55:40 GMT\n",
      "Content-Length: 385947\n",
      "Cache-Control: max-age=2592000\n",
      "Access-Control-Allow-Origin: *\n",
      "Access-Control-Allow-Credentials: true\n",
      "Access-Control-Allow-Headers: accept, content-type\n",
      "Access-Control-Allow-Methods: GET, POST\n",
      "Content-Type: image/jpeg\n",
      "Age: 72323\n",
      "Expires: Fri, 30 Aug 2019 04:55:40 GMT\n",
      "Connection: close\n",
      "\n",
      "\n",
      "HTTP Status Code : 200\n",
      "\n",
      "---------------------------------------------------\n",
      "\n",
      "Download Succeed.\n",
      "---------------------------------------------------\n",
      "Header Info-1 : Date: Thu, 01 Aug 2019 01:01:03 GMT\n",
      "Expires: -1\n",
      "Cache-Control: private, max-age=0\n",
      "Content-Type: text/html; charset=ISO-8859-1\n",
      "P3P: CP=\"This is not a P3P policy! See g.co/p3phelp for more info.\"\n",
      "Server: gws\n",
      "X-XSS-Protection: 0\n",
      "X-Frame-Options: SAMEORIGIN\n",
      "Set-Cookie: 1P_JAR=2019-08-01-01; expires=Sat, 31-Aug-2019 01:01:03 GMT; path=/; domain=.google.com\n",
      "Set-Cookie: NID=188=XBF47xRHx7p7_JGaCPeVD66B4caoUAGKM5RSIqoFtBa2ws7f-SsFfI87KywdWUiDF2uEyrE0RzG_9DGUPjHNbZL-UKXN_dQ8gfoFNQ7QDTKrEnpGJvfai3pcRElItDWMX53MFsVKaAvAoR7swh9pJ-ZasvTKuLAfygCOw08obVU; expires=Fri, 31-Jan-2020 01:01:03 GMT; path=/; domain=.google.com; HttpOnly\n",
      "Accept-Ranges: none\n",
      "Vary: Accept-Encoding\n",
      "Connection: close\n",
      "\n",
      "\n",
      "HTTP Status Code : 200\n",
      "\n",
      "---------------------------------------------------\n",
      "\n",
      "Download Succeed.\n"
     ]
    }
   ],
   "source": [
    "for i, url in enumerate(target_url):\n",
    "    # 예외 처리\n",
    "    try:\n",
    "        # 웹 수신 정보 읽기 ★★\n",
    "        response = req.urlopen(url)\n",
    "        \n",
    "        # 수신 내용\n",
    "        contents = response.read()\n",
    "\n",
    "        print('---------------------------------------------------')\n",
    "\n",
    "        # 상태 정보 중간 출력\n",
    "        print('Header Info-{} : {}'.format(i, response.info()))\n",
    "        print('HTTP Status Code : {}'.format(response.getcode()))\n",
    "        print()\n",
    "        print('---------------------------------------------------')\n",
    "\n",
    "        # 파일 쓰기\n",
    "        with open(path_list[i], 'wb') as c:\n",
    "            c.write(contents)\n",
    "\n",
    "        # HTTP 에러 발생 시\n",
    "    except HTTPError as e:\n",
    "        print(\"Download failed.\")\n",
    "        print('HTTPError Code : ', e.code)\n",
    "\n",
    "        # URL 에러 발생 시\n",
    "    except URLError as e:\n",
    "        print(\"Download failed.\")\n",
    "        print('URL Error Reason : ', e.reason)\n",
    "\n",
    "        # 성공\n",
    "    else:\n",
    "        print()\n",
    "        print(\"Download Succeed.\")"
   ]
  },
  {
   "cell_type": "code",
   "execution_count": null,
   "metadata": {},
   "outputs": [],
   "source": []
  }
 ],
 "metadata": {
  "kernelspec": {
   "display_name": "Python 3",
   "language": "python",
   "name": "python3"
  },
  "language_info": {
   "codemirror_mode": {
    "name": "ipython",
    "version": 3
   },
   "file_extension": ".py",
   "mimetype": "text/x-python",
   "name": "python",
   "nbconvert_exporter": "python",
   "pygments_lexer": "ipython3",
   "version": "3.7.3"
  }
 },
 "nbformat": 4,
 "nbformat_minor": 2
}
