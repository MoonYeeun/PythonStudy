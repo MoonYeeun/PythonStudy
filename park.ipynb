{
 "cells": [
  {
   "cell_type": "code",
   "execution_count": 6,
   "metadata": {},
   "outputs": [],
   "source": [
    "import warnings\n",
    "warnings.filterwarnings('ignore')\n",
    "warnings.filterwarnings(\"ignore\", category=UserWarning)"
   ]
  },
  {
   "cell_type": "code",
   "execution_count": 7,
   "metadata": {},
   "outputs": [],
   "source": [
    "import pandas as pd\n",
    "import numpy as np\n",
    "import re"
   ]
  },
  {
   "cell_type": "code",
   "execution_count": 8,
   "metadata": {},
   "outputs": [],
   "source": [
    "import matplotlib.pyplot as plt\n",
    "import seaborn as sns\n",
    "%matplotlib inline\n",
    "plt.rc('font', family='Malgun Gothic')"
   ]
  },
  {
   "cell_type": "code",
   "execution_count": 9,
   "metadata": {},
   "outputs": [
    {
     "data": {
      "text/plain": [
       "(132, 20)"
      ]
     },
     "execution_count": 9,
     "metadata": {},
     "output_type": "execute_result"
    }
   ],
   "source": [
    "park = pd.read_csv('../../data/서울시 주요 공원현황.csv')\n",
    "park.shape"
   ]
  },
  {
   "cell_type": "code",
   "execution_count": 10,
   "metadata": {
    "scrolled": true
   },
   "outputs": [
    {
     "data": {
      "text/html": [
       "<div>\n",
       "<style scoped>\n",
       "    .dataframe tbody tr th:only-of-type {\n",
       "        vertical-align: middle;\n",
       "    }\n",
       "\n",
       "    .dataframe tbody tr th {\n",
       "        vertical-align: top;\n",
       "    }\n",
       "\n",
       "    .dataframe thead th {\n",
       "        text-align: right;\n",
       "    }\n",
       "</style>\n",
       "<table border=\"1\" class=\"dataframe\">\n",
       "  <thead>\n",
       "    <tr style=\"text-align: right;\">\n",
       "      <th></th>\n",
       "      <th>공원번호</th>\n",
       "      <th>공원명</th>\n",
       "      <th>공원개요</th>\n",
       "      <th>면적</th>\n",
       "      <th>개원일</th>\n",
       "      <th>주요시설</th>\n",
       "      <th>주요식물</th>\n",
       "      <th>안내도</th>\n",
       "      <th>오시는길</th>\n",
       "      <th>이용시참고사항</th>\n",
       "      <th>이미지</th>\n",
       "      <th>지역</th>\n",
       "      <th>공원주소</th>\n",
       "      <th>관리부서</th>\n",
       "      <th>전화번호</th>\n",
       "      <th>X좌표(GRS80TM)</th>\n",
       "      <th>Y좌표(GRS80TM)</th>\n",
       "      <th>X좌표(WGS84)</th>\n",
       "      <th>Y좌표(WGS84)</th>\n",
       "      <th>바로가기</th>\n",
       "    </tr>\n",
       "  </thead>\n",
       "  <tbody>\n",
       "    <tr>\n",
       "      <th>0</th>\n",
       "      <td>1</td>\n",
       "      <td>남산도시자연공원</td>\n",
       "      <td>남산공원은 도심에 위치하여 서울시민에게 맑은 공기를 제공하는 자연휴식처이며 산책 꽃...</td>\n",
       "      <td>2896887㎡ 임 야 : 2454140㎡ 녹지대 및 기타시설 : 442747㎡</td>\n",
       "      <td>1968.9.10</td>\n",
       "      <td>기반시설 : 광장 45950㎡ 도로 108530㎡ 산책로 6.7㎞ (북측:3.7㎞/...</td>\n",
       "      <td>소나무 단풍 아카시아 상수리나무 등 191종 2881870주</td>\n",
       "      <td>http://parks.seoul.go.kr/upload/seditorMulti/2...</td>\n",
       "      <td>명동역(남산케이블카 와룡묘 서울애니메이션센터 방면) 도보 명동역 3번출구 → 퍼시픽...</td>\n",
       "      <td>남산공원 차량통행 금지안내 2005년 5월 1일부터 남산공원에 일반승용차 택시 통행...</td>\n",
       "      <td>http://parks.seoul.go.kr/file/info/view.do?fId...</td>\n",
       "      <td>중구</td>\n",
       "      <td>서울특별시 중구 삼일대로 231(예장동)</td>\n",
       "      <td>서울특별시중부푸른도시사업소</td>\n",
       "      <td>02-3783-5900</td>\n",
       "      <td>198364.107</td>\n",
       "      <td>450395.554</td>\n",
       "      <td>126.990377</td>\n",
       "      <td>37.550140</td>\n",
       "      <td>http://parks.seoul.go.kr/template/sub/namsan.do</td>\n",
       "    </tr>\n",
       "    <tr>\n",
       "      <th>1</th>\n",
       "      <td>3</td>\n",
       "      <td>길동생태공원</td>\n",
       "      <td>길동생태공원은 생물의 서식처를 제공하고 종다양성을 증진시키며 자연생태계의 생물들을 ...</td>\n",
       "      <td>80683㎡</td>\n",
       "      <td>1999.5.20</td>\n",
       "      <td>탐방객안내소 야외전시대 관찰대 목재데크 조류관찰대 길동생태문화센터</td>\n",
       "      <td>소나무 보리수 등 64종 31800주 산국 부들 등 138종 192800본</td>\n",
       "      <td>http://parks.seoul.go.kr/template/common/img/p...</td>\n",
       "      <td>NaN</td>\n",
       "      <td>매주 월요일은 휴관입니다 사전예약 후 입장하실 수 있습니다. ▶ 인터넷 예약 바로가...</td>\n",
       "      <td>http://parks.seoul.go.kr/file/info/view.do?fId...</td>\n",
       "      <td>강동구</td>\n",
       "      <td>서울특별시 강동구 천호대로 1291(길동생태공원)</td>\n",
       "      <td>동부공원녹지사업소 길동생태공원</td>\n",
       "      <td>02-489-2770</td>\n",
       "      <td>213554.120</td>\n",
       "      <td>448852.675</td>\n",
       "      <td>127.154779</td>\n",
       "      <td>37.540394</td>\n",
       "      <td>http://parks.seoul.go.kr/template/sub/gildong.do</td>\n",
       "    </tr>\n",
       "    <tr>\n",
       "      <th>2</th>\n",
       "      <td>4</td>\n",
       "      <td>서울대공원</td>\n",
       "      <td>서울대공원은 세계 각국의 야생동물들이 살아 숨 쉬는 서울동물원과 다양한 재미와 즐거...</td>\n",
       "      <td>9132690m²</td>\n",
       "      <td>1984.5.1</td>\n",
       "      <td>동물원 식물원 테마가든(장미원 어린이동물원 피크닉장) 치유숲 산림욕장 캠핑장 국립현...</td>\n",
       "      <td>NaN</td>\n",
       "      <td>NaN</td>\n",
       "      <td>지하철 4호선 대공원역 하차(2번 출구) 도보 15분 정도 문의처 02)500-73...</td>\n",
       "      <td>일반사항 공원을 깨끗하게 이용합니다. 대중교통을 이용해 주세요. 기념물 시설물 풀과...</td>\n",
       "      <td>http://parks.seoul.go.kr/file/info/view.do?fId...</td>\n",
       "      <td>과천시</td>\n",
       "      <td>경기도 과천시 대공원광장로 102</td>\n",
       "      <td>전략기획실</td>\n",
       "      <td>02-500-7032</td>\n",
       "      <td>200994.267</td>\n",
       "      <td>437163.981</td>\n",
       "      <td>127.019847</td>\n",
       "      <td>37.426449</td>\n",
       "      <td>http://grandpark.seoul.go.kr/</td>\n",
       "    </tr>\n",
       "    <tr>\n",
       "      <th>3</th>\n",
       "      <td>5</td>\n",
       "      <td>서울숲</td>\n",
       "      <td>당초 골프장 승마장 등이 있던 뚝섬일대를 주거업무 지역으로 개발할 경우 약 4조원에...</td>\n",
       "      <td>480994㎡</td>\n",
       "      <td>2005.6.18</td>\n",
       "      <td>4개 테마공원: 문화예술공원 자연생태숲 자연체험학습원 습지생태원 주요시설: 가족마당...</td>\n",
       "      <td>수 목 : 소나무 섬잣나무 계수나무 외 95종 415795주 식물원 : 선인장 등 ...</td>\n",
       "      <td>http://parks.seoul.go.kr/template/common/img/p...</td>\n",
       "      <td>NaN</td>\n",
       "      <td>지하철 분당선 서울숲역 3번출구 도보로 약5분 2호선 뚝섬역 8번출구 도보로 약 1...</td>\n",
       "      <td>http://parks.seoul.go.kr/file/info/view.do?fId...</td>\n",
       "      <td>성동구</td>\n",
       "      <td>서울특별시 성동구 뚝섬로 273 (성수동1가)</td>\n",
       "      <td>서울숲 관리사무소</td>\n",
       "      <td>02-460-2905</td>\n",
       "      <td>203695.432</td>\n",
       "      <td>449290.726</td>\n",
       "      <td>127.041798</td>\n",
       "      <td>37.543072</td>\n",
       "      <td>http://parks.seoul.go.kr/template/sub/seoulfor...</td>\n",
       "    </tr>\n",
       "    <tr>\n",
       "      <th>4</th>\n",
       "      <td>6</td>\n",
       "      <td>월드컵공원</td>\n",
       "      <td>월드컵공원은 서울의 서쪽에 위치하여 1978년부터 1993년까지 15년간 서울시민이...</td>\n",
       "      <td>2284085㎡</td>\n",
       "      <td>2002.5.1</td>\n",
       "      <td>평화의 공원 월드컵공원전시관(879㎡) 유니세프광장(2400㎡) 평화광장(5217㎡...</td>\n",
       "      <td>NaN</td>\n",
       "      <td>http://parks.seoul.go.kr/template/common/img/p...</td>\n",
       "      <td>지하철 6호선 월드컵경기장역 하차 → 1번 출구로 나온 후 직진 → 큰길(도로)이 ...</td>\n",
       "      <td>일반사항 공원을 깨끗하게 이용합니다. 대중교통을 이용해 주세요. 기념물 시설물 풀과...</td>\n",
       "      <td>http://parks.seoul.go.kr/file/info/view.do?fId...</td>\n",
       "      <td>마포구</td>\n",
       "      <td>서울특별시 마포구 하늘공원로 84(월드컵공원)</td>\n",
       "      <td>월드컵공원</td>\n",
       "      <td>02-300-5500</td>\n",
       "      <td>190658.070</td>\n",
       "      <td>451598.831</td>\n",
       "      <td>126.878907</td>\n",
       "      <td>37.571805</td>\n",
       "      <td>http://parks.seoul.go.kr/template/sub/worldcup...</td>\n",
       "    </tr>\n",
       "  </tbody>\n",
       "</table>\n",
       "</div>"
      ],
      "text/plain": [
       "   공원번호       공원명                                               공원개요  \\\n",
       "0     1  남산도시자연공원  남산공원은 도심에 위치하여 서울시민에게 맑은 공기를 제공하는 자연휴식처이며 산책 꽃...   \n",
       "1     3    길동생태공원  길동생태공원은 생물의 서식처를 제공하고 종다양성을 증진시키며 자연생태계의 생물들을 ...   \n",
       "2     4     서울대공원  서울대공원은 세계 각국의 야생동물들이 살아 숨 쉬는 서울동물원과 다양한 재미와 즐거...   \n",
       "3     5       서울숲  당초 골프장 승마장 등이 있던 뚝섬일대를 주거업무 지역으로 개발할 경우 약 4조원에...   \n",
       "4     6     월드컵공원  월드컵공원은 서울의 서쪽에 위치하여 1978년부터 1993년까지 15년간 서울시민이...   \n",
       "\n",
       "                                             면적        개원일  \\\n",
       "0  2896887㎡ 임 야 : 2454140㎡ 녹지대 및 기타시설 : 442747㎡  1968.9.10   \n",
       "1                                        80683㎡  1999.5.20   \n",
       "2                                     9132690m²   1984.5.1   \n",
       "3                                       480994㎡  2005.6.18   \n",
       "4                                      2284085㎡   2002.5.1   \n",
       "\n",
       "                                                주요시설  \\\n",
       "0  기반시설 : 광장 45950㎡ 도로 108530㎡ 산책로 6.7㎞ (북측:3.7㎞/...   \n",
       "1               탐방객안내소 야외전시대 관찰대 목재데크 조류관찰대 길동생태문화센터   \n",
       "2  동물원 식물원 테마가든(장미원 어린이동물원 피크닉장) 치유숲 산림욕장 캠핑장 국립현...   \n",
       "3  4개 테마공원: 문화예술공원 자연생태숲 자연체험학습원 습지생태원 주요시설: 가족마당...   \n",
       "4  평화의 공원 월드컵공원전시관(879㎡) 유니세프광장(2400㎡) 평화광장(5217㎡...   \n",
       "\n",
       "                                                주요식물  \\\n",
       "0                  소나무 단풍 아카시아 상수리나무 등 191종 2881870주   \n",
       "1          소나무 보리수 등 64종 31800주 산국 부들 등 138종 192800본   \n",
       "2                                                NaN   \n",
       "3  수 목 : 소나무 섬잣나무 계수나무 외 95종 415795주 식물원 : 선인장 등 ...   \n",
       "4                                                NaN   \n",
       "\n",
       "                                                 안내도  \\\n",
       "0  http://parks.seoul.go.kr/upload/seditorMulti/2...   \n",
       "1  http://parks.seoul.go.kr/template/common/img/p...   \n",
       "2                                                NaN   \n",
       "3  http://parks.seoul.go.kr/template/common/img/p...   \n",
       "4  http://parks.seoul.go.kr/template/common/img/p...   \n",
       "\n",
       "                                                오시는길  \\\n",
       "0  명동역(남산케이블카 와룡묘 서울애니메이션센터 방면) 도보 명동역 3번출구 → 퍼시픽...   \n",
       "1                                                NaN   \n",
       "2  지하철 4호선 대공원역 하차(2번 출구) 도보 15분 정도 문의처 02)500-73...   \n",
       "3                                                NaN   \n",
       "4  지하철 6호선 월드컵경기장역 하차 → 1번 출구로 나온 후 직진 → 큰길(도로)이 ...   \n",
       "\n",
       "                                             이용시참고사항  \\\n",
       "0  남산공원 차량통행 금지안내 2005년 5월 1일부터 남산공원에 일반승용차 택시 통행...   \n",
       "1  매주 월요일은 휴관입니다 사전예약 후 입장하실 수 있습니다. ▶ 인터넷 예약 바로가...   \n",
       "2  일반사항 공원을 깨끗하게 이용합니다. 대중교통을 이용해 주세요. 기념물 시설물 풀과...   \n",
       "3  지하철 분당선 서울숲역 3번출구 도보로 약5분 2호선 뚝섬역 8번출구 도보로 약 1...   \n",
       "4  일반사항 공원을 깨끗하게 이용합니다. 대중교통을 이용해 주세요. 기념물 시설물 풀과...   \n",
       "\n",
       "                                                 이미지   지역  \\\n",
       "0  http://parks.seoul.go.kr/file/info/view.do?fId...   중구   \n",
       "1  http://parks.seoul.go.kr/file/info/view.do?fId...  강동구   \n",
       "2  http://parks.seoul.go.kr/file/info/view.do?fId...  과천시   \n",
       "3  http://parks.seoul.go.kr/file/info/view.do?fId...  성동구   \n",
       "4  http://parks.seoul.go.kr/file/info/view.do?fId...  마포구   \n",
       "\n",
       "                           공원주소              관리부서          전화번호  X좌표(GRS80TM)  \\\n",
       "0        서울특별시 중구 삼일대로 231(예장동)    서울특별시중부푸른도시사업소  02-3783-5900    198364.107   \n",
       "1  서울특별시 강동구 천호대로 1291(길동생태공원)   동부공원녹지사업소 길동생태공원   02-489-2770    213554.120   \n",
       "2            경기도 과천시 대공원광장로 102             전략기획실   02-500-7032    200994.267   \n",
       "3    서울특별시 성동구 뚝섬로 273 (성수동1가)          서울숲 관리사무소  02-460-2905     203695.432   \n",
       "4     서울특별시 마포구 하늘공원로 84(월드컵공원)             월드컵공원   02-300-5500    190658.070   \n",
       "\n",
       "   Y좌표(GRS80TM)  X좌표(WGS84)  Y좌표(WGS84)  \\\n",
       "0    450395.554  126.990377   37.550140   \n",
       "1    448852.675  127.154779   37.540394   \n",
       "2    437163.981  127.019847   37.426449   \n",
       "3    449290.726  127.041798   37.543072   \n",
       "4    451598.831  126.878907   37.571805   \n",
       "\n",
       "                                                바로가기  \n",
       "0    http://parks.seoul.go.kr/template/sub/namsan.do  \n",
       "1   http://parks.seoul.go.kr/template/sub/gildong.do  \n",
       "2                      http://grandpark.seoul.go.kr/  \n",
       "3  http://parks.seoul.go.kr/template/sub/seoulfor...  \n",
       "4  http://parks.seoul.go.kr/template/sub/worldcup...  "
      ]
     },
     "execution_count": 10,
     "metadata": {},
     "output_type": "execute_result"
    }
   ],
   "source": [
    "park.head()"
   ]
  },
  {
   "cell_type": "code",
   "execution_count": 11,
   "metadata": {},
   "outputs": [],
   "source": [
    "park=park[park['지역']!='과천시']"
   ]
  },
  {
   "cell_type": "code",
   "execution_count": 12,
   "metadata": {
    "scrolled": true
   },
   "outputs": [
    {
     "data": {
      "text/plain": [
       "종로구     12\n",
       "강서구      9\n",
       "은평구      7\n",
       "동작구      7\n",
       "송파구      7\n",
       "강동구      7\n",
       "강남구      7\n",
       "서초구      6\n",
       "중랑구      6\n",
       "도봉구      6\n",
       "성동구      5\n",
       "마포구      5\n",
       "영등포구     5\n",
       "양천구      5\n",
       "중구       5\n",
       "금천구      4\n",
       "서대문구     4\n",
       "강북구      4\n",
       "동대문구     4\n",
       "구로구      4\n",
       "성북구      3\n",
       "노원구      2\n",
       "용산구      2\n",
       "관악구      2\n",
       "광진구      2\n",
       "Name: 지역, dtype: int64"
      ]
     },
     "execution_count": 12,
     "metadata": {},
     "output_type": "execute_result"
    }
   ],
   "source": [
    "park['지역'].value_counts()"
   ]
  },
  {
   "cell_type": "code",
   "execution_count": 13,
   "metadata": {},
   "outputs": [],
   "source": [
    "park['공원갯수'] =''"
   ]
  },
  {
   "cell_type": "code",
   "execution_count": 14,
   "metadata": {
    "scrolled": true
   },
   "outputs": [
    {
     "data": {
      "text/html": [
       "<div>\n",
       "<style scoped>\n",
       "    .dataframe tbody tr th:only-of-type {\n",
       "        vertical-align: middle;\n",
       "    }\n",
       "\n",
       "    .dataframe tbody tr th {\n",
       "        vertical-align: top;\n",
       "    }\n",
       "\n",
       "    .dataframe thead th {\n",
       "        text-align: right;\n",
       "    }\n",
       "</style>\n",
       "<table border=\"1\" class=\"dataframe\">\n",
       "  <thead>\n",
       "    <tr style=\"text-align: right;\">\n",
       "      <th></th>\n",
       "      <th>지역</th>\n",
       "      <th>공원갯수</th>\n",
       "    </tr>\n",
       "  </thead>\n",
       "  <tbody>\n",
       "    <tr>\n",
       "      <th>127</th>\n",
       "      <td>중랑구</td>\n",
       "      <td></td>\n",
       "    </tr>\n",
       "    <tr>\n",
       "      <th>128</th>\n",
       "      <td>마포구</td>\n",
       "      <td></td>\n",
       "    </tr>\n",
       "    <tr>\n",
       "      <th>129</th>\n",
       "      <td>NaN</td>\n",
       "      <td></td>\n",
       "    </tr>\n",
       "    <tr>\n",
       "      <th>130</th>\n",
       "      <td>강남구</td>\n",
       "      <td></td>\n",
       "    </tr>\n",
       "    <tr>\n",
       "      <th>131</th>\n",
       "      <td>중구</td>\n",
       "      <td></td>\n",
       "    </tr>\n",
       "  </tbody>\n",
       "</table>\n",
       "</div>"
      ],
      "text/plain": [
       "      지역 공원갯수\n",
       "127  중랑구     \n",
       "128  마포구     \n",
       "129  NaN     \n",
       "130  강남구     \n",
       "131   중구     "
      ]
     },
     "execution_count": 14,
     "metadata": {},
     "output_type": "execute_result"
    }
   ],
   "source": [
    "park[['지역','공원갯수']].tail()"
   ]
  },
  {
   "cell_type": "code",
   "execution_count": 15,
   "metadata": {},
   "outputs": [
    {
     "data": {
      "text/plain": [
       "1"
      ]
     },
     "execution_count": 15,
     "metadata": {},
     "output_type": "execute_result"
    }
   ],
   "source": [
    "park['지역'].isnull().sum()"
   ]
  },
  {
   "cell_type": "code",
   "execution_count": 16,
   "metadata": {},
   "outputs": [],
   "source": [
    "park.drop([129], inplace=True)"
   ]
  },
  {
   "cell_type": "code",
   "execution_count": 17,
   "metadata": {},
   "outputs": [
    {
     "data": {
      "text/plain": [
       "(130, 21)"
      ]
     },
     "execution_count": 17,
     "metadata": {},
     "output_type": "execute_result"
    }
   ],
   "source": [
    "park.shape"
   ]
  },
  {
   "cell_type": "code",
   "execution_count": 18,
   "metadata": {},
   "outputs": [
    {
     "data": {
      "text/html": [
       "<div>\n",
       "<style scoped>\n",
       "    .dataframe tbody tr th:only-of-type {\n",
       "        vertical-align: middle;\n",
       "    }\n",
       "\n",
       "    .dataframe tbody tr th {\n",
       "        vertical-align: top;\n",
       "    }\n",
       "\n",
       "    .dataframe thead th {\n",
       "        text-align: right;\n",
       "    }\n",
       "</style>\n",
       "<table border=\"1\" class=\"dataframe\">\n",
       "  <thead>\n",
       "    <tr style=\"text-align: right;\">\n",
       "      <th></th>\n",
       "      <th>지역</th>\n",
       "      <th>공원번호</th>\n",
       "      <th>공원명</th>\n",
       "      <th>공원개요</th>\n",
       "      <th>면적</th>\n",
       "      <th>개원일</th>\n",
       "      <th>주요시설</th>\n",
       "      <th>주요식물</th>\n",
       "      <th>안내도</th>\n",
       "      <th>오시는길</th>\n",
       "      <th>...</th>\n",
       "      <th>이미지</th>\n",
       "      <th>공원주소</th>\n",
       "      <th>관리부서</th>\n",
       "      <th>전화번호</th>\n",
       "      <th>X좌표(GRS80TM)</th>\n",
       "      <th>Y좌표(GRS80TM)</th>\n",
       "      <th>X좌표(WGS84)</th>\n",
       "      <th>Y좌표(WGS84)</th>\n",
       "      <th>바로가기</th>\n",
       "      <th>공원갯수</th>\n",
       "    </tr>\n",
       "  </thead>\n",
       "  <tbody>\n",
       "    <tr>\n",
       "      <th>0</th>\n",
       "      <td>강남구</td>\n",
       "      <td>7</td>\n",
       "      <td>7</td>\n",
       "      <td>7</td>\n",
       "      <td>7</td>\n",
       "      <td>7</td>\n",
       "      <td>7</td>\n",
       "      <td>6</td>\n",
       "      <td>2</td>\n",
       "      <td>4</td>\n",
       "      <td>...</td>\n",
       "      <td>7</td>\n",
       "      <td>7</td>\n",
       "      <td>7</td>\n",
       "      <td>7</td>\n",
       "      <td>4</td>\n",
       "      <td>4</td>\n",
       "      <td>7</td>\n",
       "      <td>7</td>\n",
       "      <td>0</td>\n",
       "      <td>7</td>\n",
       "    </tr>\n",
       "    <tr>\n",
       "      <th>1</th>\n",
       "      <td>강동구</td>\n",
       "      <td>7</td>\n",
       "      <td>7</td>\n",
       "      <td>7</td>\n",
       "      <td>7</td>\n",
       "      <td>7</td>\n",
       "      <td>7</td>\n",
       "      <td>6</td>\n",
       "      <td>5</td>\n",
       "      <td>5</td>\n",
       "      <td>...</td>\n",
       "      <td>7</td>\n",
       "      <td>7</td>\n",
       "      <td>7</td>\n",
       "      <td>7</td>\n",
       "      <td>6</td>\n",
       "      <td>6</td>\n",
       "      <td>7</td>\n",
       "      <td>7</td>\n",
       "      <td>2</td>\n",
       "      <td>7</td>\n",
       "    </tr>\n",
       "    <tr>\n",
       "      <th>2</th>\n",
       "      <td>강북구</td>\n",
       "      <td>4</td>\n",
       "      <td>4</td>\n",
       "      <td>4</td>\n",
       "      <td>4</td>\n",
       "      <td>4</td>\n",
       "      <td>3</td>\n",
       "      <td>3</td>\n",
       "      <td>4</td>\n",
       "      <td>4</td>\n",
       "      <td>...</td>\n",
       "      <td>4</td>\n",
       "      <td>4</td>\n",
       "      <td>4</td>\n",
       "      <td>4</td>\n",
       "      <td>4</td>\n",
       "      <td>4</td>\n",
       "      <td>4</td>\n",
       "      <td>4</td>\n",
       "      <td>1</td>\n",
       "      <td>4</td>\n",
       "    </tr>\n",
       "    <tr>\n",
       "      <th>3</th>\n",
       "      <td>강서구</td>\n",
       "      <td>9</td>\n",
       "      <td>9</td>\n",
       "      <td>9</td>\n",
       "      <td>9</td>\n",
       "      <td>9</td>\n",
       "      <td>9</td>\n",
       "      <td>9</td>\n",
       "      <td>7</td>\n",
       "      <td>9</td>\n",
       "      <td>...</td>\n",
       "      <td>9</td>\n",
       "      <td>9</td>\n",
       "      <td>9</td>\n",
       "      <td>9</td>\n",
       "      <td>9</td>\n",
       "      <td>9</td>\n",
       "      <td>9</td>\n",
       "      <td>9</td>\n",
       "      <td>0</td>\n",
       "      <td>9</td>\n",
       "    </tr>\n",
       "    <tr>\n",
       "      <th>4</th>\n",
       "      <td>관악구</td>\n",
       "      <td>2</td>\n",
       "      <td>2</td>\n",
       "      <td>2</td>\n",
       "      <td>2</td>\n",
       "      <td>2</td>\n",
       "      <td>2</td>\n",
       "      <td>2</td>\n",
       "      <td>0</td>\n",
       "      <td>2</td>\n",
       "      <td>...</td>\n",
       "      <td>2</td>\n",
       "      <td>2</td>\n",
       "      <td>2</td>\n",
       "      <td>2</td>\n",
       "      <td>2</td>\n",
       "      <td>2</td>\n",
       "      <td>2</td>\n",
       "      <td>2</td>\n",
       "      <td>0</td>\n",
       "      <td>2</td>\n",
       "    </tr>\n",
       "  </tbody>\n",
       "</table>\n",
       "<p>5 rows × 21 columns</p>\n",
       "</div>"
      ],
      "text/plain": [
       "    지역  공원번호  공원명  공원개요  면적  개원일  주요시설  주요식물  안내도  오시는길  ...  이미지  공원주소  관리부서  \\\n",
       "0  강남구     7    7     7   7    7     7     6    2     4  ...    7     7     7   \n",
       "1  강동구     7    7     7   7    7     7     6    5     5  ...    7     7     7   \n",
       "2  강북구     4    4     4   4    4     3     3    4     4  ...    4     4     4   \n",
       "3  강서구     9    9     9   9    9     9     9    7     9  ...    9     9     9   \n",
       "4  관악구     2    2     2   2    2     2     2    0     2  ...    2     2     2   \n",
       "\n",
       "   전화번호  X좌표(GRS80TM)  Y좌표(GRS80TM)  X좌표(WGS84)  Y좌표(WGS84)  바로가기  공원갯수  \n",
       "0     7             4             4           7           7     0     7  \n",
       "1     7             6             6           7           7     2     7  \n",
       "2     4             4             4           4           4     1     4  \n",
       "3     9             9             9           9           9     0     9  \n",
       "4     2             2             2           2           2     0     2  \n",
       "\n",
       "[5 rows x 21 columns]"
      ]
     },
     "execution_count": 18,
     "metadata": {},
     "output_type": "execute_result"
    }
   ],
   "source": [
    "park_result = park.groupby(park['지역']).count()\n",
    "park_result = park_result.reset_index()\n",
    "park_result.head()"
   ]
  },
  {
   "cell_type": "code",
   "execution_count": 19,
   "metadata": {
    "scrolled": true
   },
   "outputs": [
    {
     "data": {
      "text/html": [
       "<div>\n",
       "<style scoped>\n",
       "    .dataframe tbody tr th:only-of-type {\n",
       "        vertical-align: middle;\n",
       "    }\n",
       "\n",
       "    .dataframe tbody tr th {\n",
       "        vertical-align: top;\n",
       "    }\n",
       "\n",
       "    .dataframe thead th {\n",
       "        text-align: right;\n",
       "    }\n",
       "</style>\n",
       "<table border=\"1\" class=\"dataframe\">\n",
       "  <thead>\n",
       "    <tr style=\"text-align: right;\">\n",
       "      <th></th>\n",
       "      <th>지역</th>\n",
       "      <th>공원갯수</th>\n",
       "    </tr>\n",
       "  </thead>\n",
       "  <tbody>\n",
       "    <tr>\n",
       "      <th>0</th>\n",
       "      <td>강남구</td>\n",
       "      <td>7</td>\n",
       "    </tr>\n",
       "    <tr>\n",
       "      <th>1</th>\n",
       "      <td>강동구</td>\n",
       "      <td>7</td>\n",
       "    </tr>\n",
       "    <tr>\n",
       "      <th>2</th>\n",
       "      <td>강북구</td>\n",
       "      <td>4</td>\n",
       "    </tr>\n",
       "    <tr>\n",
       "      <th>3</th>\n",
       "      <td>강서구</td>\n",
       "      <td>9</td>\n",
       "    </tr>\n",
       "    <tr>\n",
       "      <th>4</th>\n",
       "      <td>관악구</td>\n",
       "      <td>2</td>\n",
       "    </tr>\n",
       "    <tr>\n",
       "      <th>5</th>\n",
       "      <td>광진구</td>\n",
       "      <td>2</td>\n",
       "    </tr>\n",
       "    <tr>\n",
       "      <th>6</th>\n",
       "      <td>구로구</td>\n",
       "      <td>4</td>\n",
       "    </tr>\n",
       "    <tr>\n",
       "      <th>7</th>\n",
       "      <td>금천구</td>\n",
       "      <td>4</td>\n",
       "    </tr>\n",
       "    <tr>\n",
       "      <th>8</th>\n",
       "      <td>노원구</td>\n",
       "      <td>2</td>\n",
       "    </tr>\n",
       "    <tr>\n",
       "      <th>9</th>\n",
       "      <td>도봉구</td>\n",
       "      <td>6</td>\n",
       "    </tr>\n",
       "    <tr>\n",
       "      <th>10</th>\n",
       "      <td>동대문구</td>\n",
       "      <td>4</td>\n",
       "    </tr>\n",
       "    <tr>\n",
       "      <th>11</th>\n",
       "      <td>동작구</td>\n",
       "      <td>7</td>\n",
       "    </tr>\n",
       "    <tr>\n",
       "      <th>12</th>\n",
       "      <td>마포구</td>\n",
       "      <td>5</td>\n",
       "    </tr>\n",
       "    <tr>\n",
       "      <th>13</th>\n",
       "      <td>서대문구</td>\n",
       "      <td>4</td>\n",
       "    </tr>\n",
       "    <tr>\n",
       "      <th>14</th>\n",
       "      <td>서초구</td>\n",
       "      <td>6</td>\n",
       "    </tr>\n",
       "    <tr>\n",
       "      <th>15</th>\n",
       "      <td>성동구</td>\n",
       "      <td>5</td>\n",
       "    </tr>\n",
       "    <tr>\n",
       "      <th>16</th>\n",
       "      <td>성북구</td>\n",
       "      <td>3</td>\n",
       "    </tr>\n",
       "    <tr>\n",
       "      <th>17</th>\n",
       "      <td>송파구</td>\n",
       "      <td>7</td>\n",
       "    </tr>\n",
       "    <tr>\n",
       "      <th>18</th>\n",
       "      <td>양천구</td>\n",
       "      <td>5</td>\n",
       "    </tr>\n",
       "    <tr>\n",
       "      <th>19</th>\n",
       "      <td>영등포구</td>\n",
       "      <td>5</td>\n",
       "    </tr>\n",
       "    <tr>\n",
       "      <th>20</th>\n",
       "      <td>용산구</td>\n",
       "      <td>2</td>\n",
       "    </tr>\n",
       "    <tr>\n",
       "      <th>21</th>\n",
       "      <td>은평구</td>\n",
       "      <td>7</td>\n",
       "    </tr>\n",
       "    <tr>\n",
       "      <th>22</th>\n",
       "      <td>종로구</td>\n",
       "      <td>12</td>\n",
       "    </tr>\n",
       "    <tr>\n",
       "      <th>23</th>\n",
       "      <td>중구</td>\n",
       "      <td>5</td>\n",
       "    </tr>\n",
       "    <tr>\n",
       "      <th>24</th>\n",
       "      <td>중랑구</td>\n",
       "      <td>6</td>\n",
       "    </tr>\n",
       "  </tbody>\n",
       "</table>\n",
       "</div>"
      ],
      "text/plain": [
       "      지역  공원갯수\n",
       "0    강남구     7\n",
       "1    강동구     7\n",
       "2    강북구     4\n",
       "3    강서구     9\n",
       "4    관악구     2\n",
       "5    광진구     2\n",
       "6    구로구     4\n",
       "7    금천구     4\n",
       "8    노원구     2\n",
       "9    도봉구     6\n",
       "10  동대문구     4\n",
       "11   동작구     7\n",
       "12   마포구     5\n",
       "13  서대문구     4\n",
       "14   서초구     6\n",
       "15   성동구     5\n",
       "16   성북구     3\n",
       "17   송파구     7\n",
       "18   양천구     5\n",
       "19  영등포구     5\n",
       "20   용산구     2\n",
       "21   은평구     7\n",
       "22   종로구    12\n",
       "23    중구     5\n",
       "24   중랑구     6"
      ]
     },
     "execution_count": 19,
     "metadata": {},
     "output_type": "execute_result"
    }
   ],
   "source": [
    "park_result[['지역','공원갯수']]"
   ]
  },
  {
   "cell_type": "code",
   "execution_count": 20,
   "metadata": {
    "scrolled": true
   },
   "outputs": [
    {
     "data": {
      "text/plain": [
       "130"
      ]
     },
     "execution_count": 20,
     "metadata": {},
     "output_type": "execute_result"
    }
   ],
   "source": [
    "park_result['공원갯수'].sum()"
   ]
  },
  {
   "cell_type": "code",
   "execution_count": 21,
   "metadata": {},
   "outputs": [
    {
     "data": {
      "text/plain": [
       "5.2"
      ]
     },
     "execution_count": 21,
     "metadata": {},
     "output_type": "execute_result"
    }
   ],
   "source": [
    "park_result['공원갯수'].mean()"
   ]
  },
  {
   "cell_type": "code",
   "execution_count": 22,
   "metadata": {},
   "outputs": [],
   "source": [
    "# park_result['지역별공원비율'] = round(park_result['공원갯수']/(park_result['공원 수'].sum())*100,2)\n",
    "park_result['지역별공원비율'] = round(park_result['공원갯수']/(park_result['공원갯수'].mean()),2)\n",
    "park_result['전체평균갯수'] = park_result['공원갯수'].mean()"
   ]
  },
  {
   "cell_type": "code",
   "execution_count": 23,
   "metadata": {
    "scrolled": true
   },
   "outputs": [
    {
     "data": {
      "text/html": [
       "<div>\n",
       "<style scoped>\n",
       "    .dataframe tbody tr th:only-of-type {\n",
       "        vertical-align: middle;\n",
       "    }\n",
       "\n",
       "    .dataframe tbody tr th {\n",
       "        vertical-align: top;\n",
       "    }\n",
       "\n",
       "    .dataframe thead th {\n",
       "        text-align: right;\n",
       "    }\n",
       "</style>\n",
       "<table border=\"1\" class=\"dataframe\">\n",
       "  <thead>\n",
       "    <tr style=\"text-align: right;\">\n",
       "      <th></th>\n",
       "      <th>지역</th>\n",
       "      <th>공원갯수</th>\n",
       "      <th>전체평균갯수</th>\n",
       "    </tr>\n",
       "  </thead>\n",
       "  <tbody>\n",
       "    <tr>\n",
       "      <th>0</th>\n",
       "      <td>강남구</td>\n",
       "      <td>7</td>\n",
       "      <td>5.2</td>\n",
       "    </tr>\n",
       "    <tr>\n",
       "      <th>1</th>\n",
       "      <td>강동구</td>\n",
       "      <td>7</td>\n",
       "      <td>5.2</td>\n",
       "    </tr>\n",
       "    <tr>\n",
       "      <th>2</th>\n",
       "      <td>강북구</td>\n",
       "      <td>4</td>\n",
       "      <td>5.2</td>\n",
       "    </tr>\n",
       "    <tr>\n",
       "      <th>3</th>\n",
       "      <td>강서구</td>\n",
       "      <td>9</td>\n",
       "      <td>5.2</td>\n",
       "    </tr>\n",
       "    <tr>\n",
       "      <th>4</th>\n",
       "      <td>관악구</td>\n",
       "      <td>2</td>\n",
       "      <td>5.2</td>\n",
       "    </tr>\n",
       "    <tr>\n",
       "      <th>5</th>\n",
       "      <td>광진구</td>\n",
       "      <td>2</td>\n",
       "      <td>5.2</td>\n",
       "    </tr>\n",
       "    <tr>\n",
       "      <th>6</th>\n",
       "      <td>구로구</td>\n",
       "      <td>4</td>\n",
       "      <td>5.2</td>\n",
       "    </tr>\n",
       "    <tr>\n",
       "      <th>7</th>\n",
       "      <td>금천구</td>\n",
       "      <td>4</td>\n",
       "      <td>5.2</td>\n",
       "    </tr>\n",
       "    <tr>\n",
       "      <th>8</th>\n",
       "      <td>노원구</td>\n",
       "      <td>2</td>\n",
       "      <td>5.2</td>\n",
       "    </tr>\n",
       "    <tr>\n",
       "      <th>9</th>\n",
       "      <td>도봉구</td>\n",
       "      <td>6</td>\n",
       "      <td>5.2</td>\n",
       "    </tr>\n",
       "    <tr>\n",
       "      <th>10</th>\n",
       "      <td>동대문구</td>\n",
       "      <td>4</td>\n",
       "      <td>5.2</td>\n",
       "    </tr>\n",
       "    <tr>\n",
       "      <th>11</th>\n",
       "      <td>동작구</td>\n",
       "      <td>7</td>\n",
       "      <td>5.2</td>\n",
       "    </tr>\n",
       "    <tr>\n",
       "      <th>12</th>\n",
       "      <td>마포구</td>\n",
       "      <td>5</td>\n",
       "      <td>5.2</td>\n",
       "    </tr>\n",
       "    <tr>\n",
       "      <th>13</th>\n",
       "      <td>서대문구</td>\n",
       "      <td>4</td>\n",
       "      <td>5.2</td>\n",
       "    </tr>\n",
       "    <tr>\n",
       "      <th>14</th>\n",
       "      <td>서초구</td>\n",
       "      <td>6</td>\n",
       "      <td>5.2</td>\n",
       "    </tr>\n",
       "    <tr>\n",
       "      <th>15</th>\n",
       "      <td>성동구</td>\n",
       "      <td>5</td>\n",
       "      <td>5.2</td>\n",
       "    </tr>\n",
       "    <tr>\n",
       "      <th>16</th>\n",
       "      <td>성북구</td>\n",
       "      <td>3</td>\n",
       "      <td>5.2</td>\n",
       "    </tr>\n",
       "    <tr>\n",
       "      <th>17</th>\n",
       "      <td>송파구</td>\n",
       "      <td>7</td>\n",
       "      <td>5.2</td>\n",
       "    </tr>\n",
       "    <tr>\n",
       "      <th>18</th>\n",
       "      <td>양천구</td>\n",
       "      <td>5</td>\n",
       "      <td>5.2</td>\n",
       "    </tr>\n",
       "    <tr>\n",
       "      <th>19</th>\n",
       "      <td>영등포구</td>\n",
       "      <td>5</td>\n",
       "      <td>5.2</td>\n",
       "    </tr>\n",
       "    <tr>\n",
       "      <th>20</th>\n",
       "      <td>용산구</td>\n",
       "      <td>2</td>\n",
       "      <td>5.2</td>\n",
       "    </tr>\n",
       "    <tr>\n",
       "      <th>21</th>\n",
       "      <td>은평구</td>\n",
       "      <td>7</td>\n",
       "      <td>5.2</td>\n",
       "    </tr>\n",
       "    <tr>\n",
       "      <th>22</th>\n",
       "      <td>종로구</td>\n",
       "      <td>12</td>\n",
       "      <td>5.2</td>\n",
       "    </tr>\n",
       "    <tr>\n",
       "      <th>23</th>\n",
       "      <td>중구</td>\n",
       "      <td>5</td>\n",
       "      <td>5.2</td>\n",
       "    </tr>\n",
       "    <tr>\n",
       "      <th>24</th>\n",
       "      <td>중랑구</td>\n",
       "      <td>6</td>\n",
       "      <td>5.2</td>\n",
       "    </tr>\n",
       "  </tbody>\n",
       "</table>\n",
       "</div>"
      ],
      "text/plain": [
       "      지역  공원갯수  전체평균갯수\n",
       "0    강남구     7     5.2\n",
       "1    강동구     7     5.2\n",
       "2    강북구     4     5.2\n",
       "3    강서구     9     5.2\n",
       "4    관악구     2     5.2\n",
       "5    광진구     2     5.2\n",
       "6    구로구     4     5.2\n",
       "7    금천구     4     5.2\n",
       "8    노원구     2     5.2\n",
       "9    도봉구     6     5.2\n",
       "10  동대문구     4     5.2\n",
       "11   동작구     7     5.2\n",
       "12   마포구     5     5.2\n",
       "13  서대문구     4     5.2\n",
       "14   서초구     6     5.2\n",
       "15   성동구     5     5.2\n",
       "16   성북구     3     5.2\n",
       "17   송파구     7     5.2\n",
       "18   양천구     5     5.2\n",
       "19  영등포구     5     5.2\n",
       "20   용산구     2     5.2\n",
       "21   은평구     7     5.2\n",
       "22   종로구    12     5.2\n",
       "23    중구     5     5.2\n",
       "24   중랑구     6     5.2"
      ]
     },
     "execution_count": 23,
     "metadata": {},
     "output_type": "execute_result"
    }
   ],
   "source": [
    "park_rate=park_result[['지역','공원갯수','전체평균갯수']]\n",
    "park_rate"
   ]
  },
  {
   "cell_type": "code",
   "execution_count": 27,
   "metadata": {},
   "outputs": [],
   "source": [
    "import platform\n",
    "\n",
    "from matplotlib import font_manager, rc\n",
    "plt.rcParams['axes.unicode_minus'] = False\n",
    "\n",
    "if platform.system() =='Darwin':\n",
    "    rc('font', family='AppleGothic')\n",
    "elif platform.system() == 'Windows':\n",
    "    path = \"c:/Windows/Fonts/malgun.ttf\"\n",
    "    font_name = font_manager.FontProperties(fname=path).get_name()\n",
    "    rc('font', family=font_name)\n",
    "else:\n",
    "    print('Unkonwn systme...')"
   ]
  },
  {
   "cell_type": "code",
   "execution_count": 32,
   "metadata": {
    "scrolled": true
   },
   "outputs": [
    {
     "data": {
      "text/html": [
       "<div>\n",
       "<style scoped>\n",
       "    .dataframe tbody tr th:only-of-type {\n",
       "        vertical-align: middle;\n",
       "    }\n",
       "\n",
       "    .dataframe tbody tr th {\n",
       "        vertical-align: top;\n",
       "    }\n",
       "\n",
       "    .dataframe thead th {\n",
       "        text-align: right;\n",
       "    }\n",
       "</style>\n",
       "<table border=\"1\" class=\"dataframe\">\n",
       "  <thead>\n",
       "    <tr style=\"text-align: right;\">\n",
       "      <th></th>\n",
       "      <th>지역</th>\n",
       "      <th>강남구</th>\n",
       "      <th>전체평균갯수</th>\n",
       "    </tr>\n",
       "  </thead>\n",
       "  <tbody>\n",
       "    <tr>\n",
       "      <th>0</th>\n",
       "      <td>강남구</td>\n",
       "      <td>7</td>\n",
       "      <td>5.2</td>\n",
       "    </tr>\n",
       "  </tbody>\n",
       "</table>\n",
       "</div>"
      ],
      "text/plain": [
       "    지역  강남구  전체평균갯수\n",
       "0  강남구    7     5.2"
      ]
     },
     "execution_count": 32,
     "metadata": {},
     "output_type": "execute_result"
    }
   ],
   "source": [
    "gu = '강남구'\n",
    "park_per_rate=park_rate[park_rate['지역'].str.contains(gu)]\n",
    "park_per_rate.columns = ['지역',gu,'전체평균갯수']\n",
    "park_per_rate"
   ]
  },
  {
   "cell_type": "code",
   "execution_count": 1,
   "metadata": {
    "scrolled": false
   },
   "outputs": [
    {
     "ename": "NameError",
     "evalue": "name 'gu' is not defined",
     "output_type": "error",
     "traceback": [
      "\u001b[1;31m---------------------------------------------------------------------------\u001b[0m",
      "\u001b[1;31mNameError\u001b[0m                                 Traceback (most recent call last)",
      "\u001b[1;32m<ipython-input-1-584383237163>\u001b[0m in \u001b[0;36m<module>\u001b[1;34m\u001b[0m\n\u001b[1;32m----> 1\u001b[1;33m \u001b[0mprint\u001b[0m\u001b[1;33m(\u001b[0m\u001b[1;34m'본인이 살고 있는 \"구\"를 선택해주세요.'\u001b[0m\u001b[1;33m,\u001b[0m \u001b[0mgu\u001b[0m\u001b[1;33m)\u001b[0m\u001b[1;33m\u001b[0m\u001b[1;33m\u001b[0m\u001b[0m\n\u001b[0m",
      "\u001b[1;31mNameError\u001b[0m: name 'gu' is not defined"
     ]
    }
   ],
   "source": [
    "print('본인이 살고 있는 \"구\"를 선택해주세요.', gu)"
   ]
  },
  {
   "cell_type": "code",
   "execution_count": null,
   "metadata": {},
   "outputs": [],
   "source": [
    "park_rate.to_csv('../../data/park_rate.csv', sep=',', encoding = 'utf-8')"
   ]
  },
  {
   "cell_type": "code",
   "execution_count": 34,
   "metadata": {
    "collapsed": true
   },
   "outputs": [
    {
     "data": {
      "text/plain": [
       "<matplotlib.axes._subplots.AxesSubplot at 0x1860cd2dc50>"
      ]
     },
     "execution_count": 34,
     "metadata": {},
     "output_type": "execute_result"
    },
    {
     "data": {
      "image/png": "[encoded data removed]",
      "text/plain": [
       "<Figure size 576x576 with 1 Axes>"
      ]
     },
     "metadata": {
      "needs_background": "light"
     },
     "output_type": "display_data"
    }
   ],
   "source": [
    "plt.figure(figsize=(8,8))\n",
    "plt.title(\"본인이 살고있는 공원 갯수와 평균공원수\")\n",
    "sns.barplot(data=park_per_rate)\n",
    "\n"
   ]
  },
  {
   "cell_type": "code",
   "execution_count": 67,
   "metadata": {
    "scrolled": true
   },
   "outputs": [
    {
     "data": {
      "image/png": "[encoded data removed]",
      "text/plain": [
       "<Figure size 576x576 with 1 Axes>"
      ]
     },
     "metadata": {
      "needs_background": "light"
     },
     "output_type": "display_data"
    },
    {
     "data": {
      "image/png": "[encoded data removed]",
      "text/plain": [
       "<Figure size 576x576 with 1 Axes>"
      ]
     },
     "metadata": {
      "needs_background": "light"
     },
     "output_type": "display_data"
    },
    {
     "data": {
      "image/png": "[encoded data removed]",
      "text/plain": [
       "<Figure size 576x576 with 1 Axes>"
      ]
     },
     "metadata": {
      "needs_background": "light"
     },
     "output_type": "display_data"
    },
    {
     "data": {
      "image/png": "[encoded data removed]",
      "text/plain": [
       "<Figure size 576x576 with 1 Axes>"
      ]
     },
     "metadata": {
      "needs_background": "light"
     },
     "output_type": "display_data"
    },
    {
     "data": {
      "image/png": "[encoded data removed]",
      "text/plain": [
       "<Figure size 576x576 with 1 Axes>"
      ]
     },
     "metadata": {
      "needs_background": "light"
     },
     "output_type": "display_data"
    },
    {
     "data": {
      "image/png": "[encoded data removed]",
      "text/plain": [
       "<Figure size 576x576 with 1 Axes>"
      ]
     },
     "metadata": {
      "needs_background": "light"
     },
     "output_type": "display_data"
    },
    {
     "data": {
      "image/png": "[encoded data removed]",
      "text/plain": [
       "<Figure size 576x576 with 1 Axes>"
      ]
     },
     "metadata": {
      "needs_background": "light"
     },
     "output_type": "display_data"
    },
    {
     "data": {
      "image/png": "[encoded data removed]",
      "text/plain": [
       "<Figure size 576x576 with 1 Axes>"
      ]
     },
     "metadata": {
      "needs_background": "light"
     },
     "output_type": "display_data"
    },
    {
     "data": {
      "image/png": "[encoded data removed]",
      "text/plain": [
       "<Figure size 576x576 with 1 Axes>"
      ]
     },
     "metadata": {
      "needs_background": "light"
     },
     "output_type": "display_data"
    },
    {
     "data": {
      "image/png": "[encoded data removed]",
      "text/plain": [
       "<Figure size 576x576 with 1 Axes>"
      ]
     },
     "metadata": {
      "needs_background": "light"
     },
     "output_type": "display_data"
    },
    {
     "data": {
      "image/png": "[encoded data removed]",
      "text/plain": [
       "<Figure size 576x576 with 1 Axes>"
      ]
     },
     "metadata": {
      "needs_background": "light"
     },
     "output_type": "display_data"
    },
    {
     "data": {
      "image/png": "[encoded data removed]",
      "text/plain": [
       "<Figure size 576x576 with 1 Axes>"
      ]
     },
     "metadata": {
      "needs_background": "light"
     },
     "output_type": "display_data"
    },
    {
     "data": {
      "image/png": "[encoded data removed]",
      "text/plain": [
       "<Figure size 576x576 with 1 Axes>"
      ]
     },
     "metadata": {
      "needs_background": "light"
     },
     "output_type": "display_data"
    },
    {
     "data": {
      "image/png": "[encoded data removed]",
      "text/plain": [
       "<Figure size 576x576 with 1 Axes>"
      ]
     },
     "metadata": {
      "needs_background": "light"
     },
     "output_type": "display_data"
    },
    {
     "data": {
      "image/png": "[encoded data removed]",
      "text/plain": [
       "<Figure size 576x576 with 1 Axes>"
      ]
     },
     "metadata": {
      "needs_background": "light"
     },
     "output_type": "display_data"
    },
    {
     "data": {
      "image/png": "[encoded data removed]",
      "text/plain": [
       "<Figure size 576x576 with 1 Axes>"
      ]
     },
     "metadata": {
      "needs_background": "light"
     },
     "output_type": "display_data"
    },
    {
     "data": {
      "image/png": "[encoded data removed]",
      "text/plain": [
       "<Figure size 576x576 with 1 Axes>"
      ]
     },
     "metadata": {
      "needs_background": "light"
     },
     "output_type": "display_data"
    },
    {
     "data": {
      "image/png": "[encoded data removed]",
      "text/plain": [
       "<Figure size 576x576 with 1 Axes>"
      ]
     },
     "metadata": {
      "needs_background": "light"
     },
     "output_type": "display_data"
    },
    {
     "data": {
      "image/png": "[encoded data removed]",
      "text/plain": [
       "<Figure size 576x576 with 1 Axes>"
      ]
     },
     "metadata": {
      "needs_background": "light"
     },
     "output_type": "display_data"
    },
    {
     "data": {
      "image/png": "[encoded data removed]",
      "text/plain": [
       "<Figure size 576x576 with 1 Axes>"
      ]
     },
     "metadata": {
      "needs_background": "light"
     },
     "output_type": "display_data"
    },
    {
     "data": {
      "image/png": "[encoded data removed]",
      "text/plain": [
       "<Figure size 576x576 with 1 Axes>"
      ]
     },
     "metadata": {
      "needs_background": "light"
     },
     "output_type": "display_data"
    },
    {
     "data": {
      "image/png": "[encoded data removed]",
      "text/plain": [
       "<Figure size 576x576 with 1 Axes>"
      ]
     },
     "metadata": {
      "needs_background": "light"
     },
     "output_type": "display_data"
    },
    {
     "data": {
      "image/png": "[encoded data removed]",
      "text/plain": [
       "<Figure size 576x576 with 1 Axes>"
      ]
     },
     "metadata": {
      "needs_background": "light"
     },
     "output_type": "display_data"
    },
    {
     "data": {
      "image/png": "[encoded data removed]",
      "text/plain": [
       "<Figure size 576x576 with 1 Axes>"
      ]
     },
     "metadata": {
      "needs_background": "light"
     },
     "output_type": "display_data"
    },
    {
     "data": {
      "image/png": "[encoded data removed]",
      "text/plain": [
       "<Figure size 576x576 with 1 Axes>"
      ]
     },
     "metadata": {
      "needs_background": "light"
     },
     "output_type": "display_data"
    }
   ],
   "source": [
    "for gu in park_rate['지역']:\n",
    "    park_per_rate=park_rate[park_rate['지역'].str.contains(gu)]\n",
    "    park_per_rate.columns = ['지역',gu,'전체평균갯수']\n",
    "    plt.figure(figsize=(8,8))\n",
    "    plt.title(\"구공원수와 서울시평균공원수\")\n",
    "    sns.barplot(data=park_per_rate)\n",
    "    plt.savefig('../../img/' + gu + '.png', bbox_inches='tight')\n",
    "    "
   ]
  },
  {
   "cell_type": "code",
   "execution_count": null,
   "metadata": {},
   "outputs": [],
   "source": [
    "\n"
   ]
  },
  {
   "cell_type": "markdown",
   "metadata": {},
   "source": []
  },
  {
   "cell_type": "code",
   "execution_count": null,
   "metadata": {},
   "outputs": [],
   "source": []
  },
  {
   "cell_type": "code",
   "execution_count": null,
   "metadata": {},
   "outputs": [],
   "source": []
  },
  {
   "cell_type": "code",
   "execution_count": null,
   "metadata": {},
   "outputs": [],
   "source": []
  },
  {
   "cell_type": "code",
   "execution_count": null,
   "metadata": {},
   "outputs": [],
   "source": []
  }
 ],
 "metadata": {
  "kernelspec": {
   "display_name": "Python 3",
   "language": "python",
   "name": "python3"
  },
  "language_info": {
   "codemirror_mode": {
    "name": "ipython",
    "version": 3
   },
   "file_extension": ".py",
   "mimetype": "text/x-python",
   "name": "python",
   "nbconvert_exporter": "python",
   "pygments_lexer": "ipython3",
   "version": "3.7.3"
  }
 },
 "nbformat": 4,
 "nbformat_minor": 2
}
