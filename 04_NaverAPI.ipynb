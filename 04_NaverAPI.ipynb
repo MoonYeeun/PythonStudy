{
 "cells": [
  {
   "cell_type": "markdown",
   "metadata": {},
   "source": [
    "- 네이버 개발자 센터 : https://developers.naver.com/\n",
    "- open api 신청 - client id, client secret\n",
    "- 검색 api 분석 : https://developers.naver.com/docs/search/blog/\n",
    "- urlencode(), urldecode() => 요청url 통째로 인코팅\n",
    "- quote(), unquote() => 값 자체만 인코딩 또는 디코딩"
   ]
  },
  {
   "cell_type": "code",
   "execution_count": 30,
   "metadata": {},
   "outputs": [],
   "source": [
    "import urllib.request\n",
    "import os\n",
    "import sys"
   ]
  },
  {
   "cell_type": "code",
   "execution_count": 7,
   "metadata": {},
   "outputs": [
    {
     "data": {
      "text/plain": [
       "'https://openapi.naver.com/v1/search/movie.json?query=%ED%86%A0%EC%9D%B4%EC%8A%A4%ED%86%A0%EB%A6%AC'"
      ]
     },
     "execution_count": 7,
     "metadata": {},
     "output_type": "execute_result"
    }
   ],
   "source": [
    "encText = urllib.parse.quote(\"토이스토리\")\n",
    "url = \"https://openapi.naver.com/v1/search/movie.json?query=\" + encText # json 결과\n",
    "\n",
    "url"
   ]
  },
  {
   "cell_type": "code",
   "execution_count": 3,
   "metadata": {},
   "outputs": [],
   "source": [
    "client_id = \"gCI0kggKUmxazphRJi8l\"\n",
    "client_secret = \"5q95mKjEMg\"\n",
    "\n",
    "request = urllib.request.Request(url)\n",
    "request.add_header(\"X-Naver-Client-Id\",client_id)\n",
    "request.add_header(\"X-Naver-Client-Secret\",client_secret)"
   ]
  },
  {
   "cell_type": "code",
   "execution_count": 4,
   "metadata": {},
   "outputs": [
    {
     "name": "stdout",
     "output_type": "stream",
     "text": [
      "200\n"
     ]
    }
   ],
   "source": [
    "response = urllib.request.urlopen(request)\n",
    "print(response.getcode())"
   ]
  },
  {
   "cell_type": "code",
   "execution_count": 5,
   "metadata": {},
   "outputs": [
    {
     "data": {
      "text/plain": [
       "http.client.HTTPResponse"
      ]
     },
     "execution_count": 5,
     "metadata": {},
     "output_type": "execute_result"
    }
   ],
   "source": [
    "type(response)"
   ]
  },
  {
   "cell_type": "code",
   "execution_count": 6,
   "metadata": {},
   "outputs": [
    {
     "name": "stdout",
     "output_type": "stream",
     "text": [
      "{\n",
      "\"lastBuildDate\": \"Thu, 01 Aug 2019 15:48:33 +0900\",\n",
      "\"total\": 14,\n",
      "\"start\": 1,\n",
      "\"display\": 10,\n",
      "\"items\": [\n",
      "{\n",
      "\"title\": \"<b>토이 스토리</b> 4\",\n",
      "\"link\": \"https://movie.naver.com/movie/bi/mi/basic.nhn?code=101966\",\n",
      "\"image\": \"https://ssl.pstatic.net/imgmovie/mdi/mit110/1019/101966_P09_114632.jpg\",\n",
      "\"subtitle\": \"Toy Story 4\",\n",
      "\"pubDate\": \"2019\",\n",
      "\"director\": \"조시 쿨리|\",\n",
      "\"actor\": \"톰 행크스|애니 파츠|토니 헤일|팀 알렌|\",\n",
      "\"userRating\": \"9.08\"\n",
      "\n",
      "},\n",
      "{\n",
      "\"title\": \"댄싱 스루 라이프: 더 도로시 <b>토이 스토리</b>\",\n",
      "\"link\": \"https://movie.naver.com/movie/bi/mi/basic.nhn?code=161036\",\n",
      "\"image\": \"https://ssl.pstatic.net/imgmovie/mdi/mit110/1610/161036_P01_153228.jpg\",\n",
      "\"subtitle\": \"Dancing Through Life: The Dorothy Toy Story\",\n",
      "\"pubDate\": \"2016\",\n",
      "\"director\": \"릭 콴|\",\n",
      "\"actor\": \"\",\n",
      "\"userRating\": \"0.00\"\n",
      "\n",
      "},\n",
      "{\n",
      "\"title\": \"<b>토이 스토리</b> 공룡 전사들의 도시\",\n",
      "\"link\": \"https://movie.naver.com/movie/bi/mi/basic.nhn?code=130784\",\n",
      "\"image\": \"https://ssl.pstatic.net/imgmovie/mdi/mit110/1307/130784_P00_112236.jpg\",\n",
      "\"subtitle\": \"Toy Story That Time Forgot\",\n",
      "\"pubDate\": \"2014\",\n",
      "\"director\": \"스티브 퍼셀|\",\n",
      "\"actor\": \"톰 행크스|크리스틴 스칼|팀 알렌|티모시 달튼|조안 쿠삭|\",\n",
      "\"userRating\": \"8.43\"\n",
      "\n",
      "},\n",
      "{\n",
      "\"title\": \"<b>토이 스토리</b> 공포의 대탈출\",\n",
      "\"link\": \"https://movie.naver.com/movie/bi/mi/basic.nhn?code=101967\",\n",
      "\"image\": \"https://ssl.pstatic.net/imgmovie/mdi/mit110/1019/101967_P00_112121.jpg\",\n",
      "\"subtitle\": \"Toy Story of Terror\",\n",
      "\"pubDate\": \"2013\",\n",
      "\"director\": \"앤거스 맥클레인|\",\n",
      "\"actor\": \"톰 행크스|팀 알렌|조안 쿠삭|\",\n",
      "\"userRating\": \"9.34\"\n",
      "\n",
      "},\n",
      "{\n",
      "\"title\": \"찰리: 어 <b>토이 스토리</b>\",\n",
      "\"link\": \"https://movie.naver.com/movie/bi/mi/basic.nhn?code=107882\",\n",
      "\"image\": \"https://ssl.pstatic.net/imgmovie/mdi/mit110/1078/107882_P01_160934.jpg\",\n",
      "\"subtitle\": \"Charlie: A Toy Story\",\n",
      "\"pubDate\": \"2013\",\n",
      "\"director\": \"게리 A. 브라운|\",\n",
      "\"actor\": \"드류 워터스|레이몬드 오초아|리건 월러스|\",\n",
      "\"userRating\": \"0.00\"\n",
      "\n",
      "},\n",
      "{\n",
      "\"title\": \"다락방의 <b>토이 스토리</b>\",\n",
      "\"link\": \"https://movie.naver.com/movie/bi/mi/basic.nhn?code=98477\",\n",
      "\"image\": \"https://ssl.pstatic.net/imgmovie/mdi/mit110/0984/98477_P18_140430.jpg\",\n",
      "\"subtitle\": \"Toys in the Attic\",\n",
      "\"pubDate\": \"2012\",\n",
      "\"director\": \"이지 바르타|비비안 쉴링|\",\n",
      "\"actor\": \"포레스트 휘태커|조안 쿠삭|캐리 엘위스|\",\n",
      "\"userRating\": \"7.56\"\n",
      "\n",
      "},\n",
      "{\n",
      "\"title\": \"<b>토이 스토리</b> 3\",\n",
      "\"link\": \"https://movie.naver.com/movie/bi/mi/basic.nhn?code=66463\",\n",
      "\"image\": \"https://ssl.pstatic.net/imgmovie/mdi/mit110/0664/66463_P46_190114.jpg\",\n",
      "\"subtitle\": \"Toy Story 3\",\n",
      "\"pubDate\": \"2010\",\n",
      "\"director\": \"리 언크리치|\",\n",
      "\"actor\": \"톰 행크스|팀 알렌|조안 쿠삭|\",\n",
      "\"userRating\": \"9.38\"\n",
      "\n",
      "},\n",
      "{\n",
      "\"title\": \"<b>토이 스토리</b> 2\",\n",
      "\"link\": \"https://movie.naver.com/movie/bi/mi/basic.nhn?code=27578\",\n",
      "\"image\": \"https://ssl.pstatic.net/imgmovie/mdi/mit110/0275/27578_P00_171532.jpg\",\n",
      "\"subtitle\": \"Toy Story 2\",\n",
      "\"pubDate\": \"1999\",\n",
      "\"director\": \"존 라세터|\",\n",
      "\"actor\": \"톰 행크스|팀 알렌|조안 쿠삭|\",\n",
      "\"userRating\": \"9.26\"\n",
      "\n",
      "},\n",
      "{\n",
      "\"title\": \"<b>토이 스토리</b>\",\n",
      "\"link\": \"https://movie.naver.com/movie/bi/mi/basic.nhn?code=17153\",\n",
      "\"image\": \"https://ssl.pstatic.net/imgmovie/mdi/mit110/0171/A7153-00.jpg\",\n",
      "\"subtitle\": \"Toy Story\",\n",
      "\"pubDate\": \"1995\",\n",
      "\"director\": \"존 라세터|\",\n",
      "\"actor\": \"톰 행크스|팀 알렌|\",\n",
      "\"userRating\": \"9.29\"\n",
      "\n",
      "},\n",
      "{\n",
      "\"title\": \"장식품\",\n",
      "\"link\": \"https://movie.naver.com/movie/bi/mi/basic.nhn?code=29178\",\n",
      "\"image\": \"https://ssl.pstatic.net/imgmovie/mdi/mit110/0291/29178_P00_161057.jpg\",\n",
      "\"subtitle\": \"Knick Knack\",\n",
      "\"pubDate\": \"1989\",\n",
      "\"director\": \"존 라세터|\",\n",
      "\"actor\": \"\",\n",
      "\"userRating\": \"8.29\"\n",
      "\n",
      "}\n",
      "]\n",
      "}\n",
      "\n"
     ]
    }
   ],
   "source": [
    "print(response.read().decode('utf-8'))"
   ]
  },
  {
   "cell_type": "markdown",
   "metadata": {},
   "source": [
    "## 네이버 검색에서 영화 정보 가져오기"
   ]
  },
  {
   "cell_type": "code",
   "execution_count": 66,
   "metadata": {},
   "outputs": [],
   "source": [
    "# 영화뿐만 아니라 모든 카테고리 검색이 가능하도록 함수 생성\n",
    "\n",
    "def create_url(api_node, search_text, start_num, disp_num):\n",
    "    base = \"https://openapi.naver.com/v1/search\"\n",
    "    node = \"/\" + api_node + \".json\"\n",
    "    param_query = \"?query=\" + urllib.parse.quote(search_text)\n",
    "    param_start = \"&start=\" + str(start_num)\n",
    "    param_disp = \"&display=\" + str(disp_num)\n",
    "    \n",
    "    return base + node + param_query + param_start + param_disp"
   ]
  },
  {
   "cell_type": "code",
   "execution_count": 67,
   "metadata": {},
   "outputs": [
    {
     "data": {
      "text/plain": [
       "'https://openapi.naver.com/v1/search/movie.json?query=%ED%86%A0%EC%9D%B4%EC%8A%A4%ED%86%A0%EB%A6%AC&start=1&display=10'"
      ]
     },
     "execution_count": 67,
     "metadata": {},
     "output_type": "execute_result"
    }
   ],
   "source": [
    "create_url(\"movie\", \"토이스토리\", 1, 10)"
   ]
  },
  {
   "cell_type": "code",
   "execution_count": 68,
   "metadata": {},
   "outputs": [
    {
     "data": {
      "text/plain": [
       "{'lastBuildDate': 'Thu, 01 Aug 2019 17:10:50 +0900',\n",
       " 'total': 14,\n",
       " 'start': 1,\n",
       " 'display': 3,\n",
       " 'items': [{'title': '<b>토이 스토리</b> 4',\n",
       "   'link': 'https://movie.naver.com/movie/bi/mi/basic.nhn?code=101966',\n",
       "   'image': 'https://ssl.pstatic.net/imgmovie/mdi/mit110/1019/101966_P09_114632.jpg',\n",
       "   'subtitle': 'Toy Story 4',\n",
       "   'pubDate': '2019',\n",
       "   'director': '조시 쿨리|',\n",
       "   'actor': '톰 행크스|애니 파츠|토니 헤일|팀 알렌|',\n",
       "   'userRating': '9.09'},\n",
       "  {'title': '댄싱 스루 라이프: 더 도로시 <b>토이 스토리</b>',\n",
       "   'link': 'https://movie.naver.com/movie/bi/mi/basic.nhn?code=161036',\n",
       "   'image': 'https://ssl.pstatic.net/imgmovie/mdi/mit110/1610/161036_P01_153228.jpg',\n",
       "   'subtitle': 'Dancing Through Life: The Dorothy Toy Story',\n",
       "   'pubDate': '2016',\n",
       "   'director': '릭 콴|',\n",
       "   'actor': '',\n",
       "   'userRating': '0.00'},\n",
       "  {'title': '<b>토이 스토리</b> 공룡 전사들의 도시',\n",
       "   'link': 'https://movie.naver.com/movie/bi/mi/basic.nhn?code=130784',\n",
       "   'image': 'https://ssl.pstatic.net/imgmovie/mdi/mit110/1307/130784_P00_112236.jpg',\n",
       "   'subtitle': 'Toy Story That Time Forgot',\n",
       "   'pubDate': '2014',\n",
       "   'director': '스티브 퍼셀|',\n",
       "   'actor': '톰 행크스|크리스틴 스칼|팀 알렌|티모시 달튼|조안 쿠삭|',\n",
       "   'userRating': '8.43'}]}"
      ]
     },
     "execution_count": 68,
     "metadata": {},
     "output_type": "execute_result"
    }
   ],
   "source": [
    "import json\n",
    "\n",
    "client_id = \"gCI0kggKUmxazphRJi8l\"\n",
    "client_secret = \"5q95mKjEMg\"\n",
    "\n",
    "url = create_url(\"movie\", \"토이스토리\", 1, 3)\n",
    "\n",
    "request = urllib.request.Request(url)\n",
    "request.add_header(\"X-Naver-Client-Id\",client_id)\n",
    "request.add_header(\"X-Naver-Client-Secret\",client_secret)\n",
    "\n",
    "response = urllib.request.urlopen(request)\n",
    "\n",
    "result = json.loads(response.read().decode('utf-8'))\n",
    "result"
   ]
  },
  {
   "cell_type": "code",
   "execution_count": 69,
   "metadata": {},
   "outputs": [
    {
     "data": {
      "text/plain": [
       "3"
      ]
     },
     "execution_count": 69,
     "metadata": {},
     "output_type": "execute_result"
    }
   ],
   "source": [
    "# total : 총 검색 갯수\n",
    "#display : 한번에 보여줄 개수. 페이징 가능\n",
    "result['display']"
   ]
  },
  {
   "cell_type": "code",
   "execution_count": 70,
   "metadata": {},
   "outputs": [
    {
     "data": {
      "text/plain": [
       "[{'title': '<b>토이 스토리</b> 4',\n",
       "  'link': 'https://movie.naver.com/movie/bi/mi/basic.nhn?code=101966',\n",
       "  'image': 'https://ssl.pstatic.net/imgmovie/mdi/mit110/1019/101966_P09_114632.jpg',\n",
       "  'subtitle': 'Toy Story 4',\n",
       "  'pubDate': '2019',\n",
       "  'director': '조시 쿨리|',\n",
       "  'actor': '톰 행크스|애니 파츠|토니 헤일|팀 알렌|',\n",
       "  'userRating': '9.09'},\n",
       " {'title': '댄싱 스루 라이프: 더 도로시 <b>토이 스토리</b>',\n",
       "  'link': 'https://movie.naver.com/movie/bi/mi/basic.nhn?code=161036',\n",
       "  'image': 'https://ssl.pstatic.net/imgmovie/mdi/mit110/1610/161036_P01_153228.jpg',\n",
       "  'subtitle': 'Dancing Through Life: The Dorothy Toy Story',\n",
       "  'pubDate': '2016',\n",
       "  'director': '릭 콴|',\n",
       "  'actor': '',\n",
       "  'userRating': '0.00'},\n",
       " {'title': '<b>토이 스토리</b> 공룡 전사들의 도시',\n",
       "  'link': 'https://movie.naver.com/movie/bi/mi/basic.nhn?code=130784',\n",
       "  'image': 'https://ssl.pstatic.net/imgmovie/mdi/mit110/1307/130784_P00_112236.jpg',\n",
       "  'subtitle': 'Toy Story That Time Forgot',\n",
       "  'pubDate': '2014',\n",
       "  'director': '스티브 퍼셀|',\n",
       "  'actor': '톰 행크스|크리스틴 스칼|팀 알렌|티모시 달튼|조안 쿠삭|',\n",
       "  'userRating': '8.43'}]"
      ]
     },
     "execution_count": 70,
     "metadata": {},
     "output_type": "execute_result"
    }
   ],
   "source": [
    "result['items']"
   ]
  },
  {
   "cell_type": "code",
   "execution_count": 71,
   "metadata": {},
   "outputs": [
    {
     "data": {
      "text/plain": [
       "3"
      ]
     },
     "execution_count": 71,
     "metadata": {},
     "output_type": "execute_result"
    }
   ],
   "source": [
    "len(result['items'])"
   ]
  },
  {
   "cell_type": "code",
   "execution_count": 72,
   "metadata": {},
   "outputs": [
    {
     "data": {
      "text/plain": [
       "['<b>토이 스토리</b> 4',\n",
       " '댄싱 스루 라이프: 더 도로시 <b>토이 스토리</b>',\n",
       " '<b>토이 스토리</b> 공룡 전사들의 도시']"
      ]
     },
     "execution_count": 72,
     "metadata": {},
     "output_type": "execute_result"
    }
   ],
   "source": [
    "# 리스트 생성\n",
    "titles = [result['items'][n]['title'] for n in range(3)]\n",
    "titles"
   ]
  },
  {
   "cell_type": "code",
   "execution_count": 73,
   "metadata": {},
   "outputs": [
    {
     "data": {
      "text/plain": [
       "['조시 쿨리|', '릭 콴|', '스티브 퍼셀|']"
      ]
     },
     "execution_count": 73,
     "metadata": {},
     "output_type": "execute_result"
    }
   ],
   "source": [
    "# 리스트 생성\n",
    "director = [result['items'][n]['director'] for n in range(3)]\n",
    "director"
   ]
  },
  {
   "cell_type": "code",
   "execution_count": 74,
   "metadata": {},
   "outputs": [
    {
     "data": {
      "text/plain": [
       "['2019', '2016', '2014']"
      ]
     },
     "execution_count": 74,
     "metadata": {},
     "output_type": "execute_result"
    }
   ],
   "source": [
    "# 리스트 생성\n",
    "pubDate = [result['items'][n]['pubDate'] for n in range(3)]\n",
    "pubDate"
   ]
  },
  {
   "cell_type": "code",
   "execution_count": 75,
   "metadata": {},
   "outputs": [
    {
     "data": {
      "text/html": [
       "<div>\n",
       "<style scoped>\n",
       "    .dataframe tbody tr th:only-of-type {\n",
       "        vertical-align: middle;\n",
       "    }\n",
       "\n",
       "    .dataframe tbody tr th {\n",
       "        vertical-align: top;\n",
       "    }\n",
       "\n",
       "    .dataframe thead th {\n",
       "        text-align: right;\n",
       "    }\n",
       "</style>\n",
       "<table border=\"1\" class=\"dataframe\">\n",
       "  <thead>\n",
       "    <tr style=\"text-align: right;\">\n",
       "      <th></th>\n",
       "      <th>영화제목</th>\n",
       "      <th>감독</th>\n",
       "      <th>개봉년도</th>\n",
       "    </tr>\n",
       "  </thead>\n",
       "  <tbody>\n",
       "    <tr>\n",
       "      <th>0</th>\n",
       "      <td>&lt;b&gt;토이 스토리&lt;/b&gt; 4</td>\n",
       "      <td>조시 쿨리|</td>\n",
       "      <td>2019</td>\n",
       "    </tr>\n",
       "    <tr>\n",
       "      <th>1</th>\n",
       "      <td>댄싱 스루 라이프: 더 도로시 &lt;b&gt;토이 스토리&lt;/b&gt;</td>\n",
       "      <td>릭 콴|</td>\n",
       "      <td>2016</td>\n",
       "    </tr>\n",
       "    <tr>\n",
       "      <th>2</th>\n",
       "      <td>&lt;b&gt;토이 스토리&lt;/b&gt; 공룡 전사들의 도시</td>\n",
       "      <td>스티브 퍼셀|</td>\n",
       "      <td>2014</td>\n",
       "    </tr>\n",
       "  </tbody>\n",
       "</table>\n",
       "</div>"
      ],
      "text/plain": [
       "                             영화제목       감독  개봉년도\n",
       "0                 <b>토이 스토리</b> 4   조시 쿨리|  2019\n",
       "1  댄싱 스루 라이프: 더 도로시 <b>토이 스토리</b>     릭 콴|  2016\n",
       "2        <b>토이 스토리</b> 공룡 전사들의 도시  스티브 퍼셀|  2014"
      ]
     },
     "execution_count": 75,
     "metadata": {},
     "output_type": "execute_result"
    }
   ],
   "source": [
    "import pandas as pd\n",
    "\n",
    "pd.DataFrame({'영화제목':titles, '감독':director, '개봉년도':pubDate})"
   ]
  },
  {
   "cell_type": "code",
   "execution_count": 65,
   "metadata": {},
   "outputs": [],
   "source": [
    "# <b>, </b> 삭제 => replace\n",
    "# 다른 문자도 대체 가능\n",
    "def delete_tag(input_str):\n",
    "    input_str = input_str.replace(\"<b>\", \"\")\n",
    "    input_str = input_str.replace(\"</b>\", \"\")\n",
    "    return input_str"
   ]
  },
  {
   "cell_type": "code",
   "execution_count": 77,
   "metadata": {},
   "outputs": [],
   "source": [
    "def get_dataframe(url):\n",
    "    client_id = \"gCI0kggKUmxazphRJi8l\"\n",
    "    client_secret = \"5q95mKjEMg\"\n",
    "    \n",
    "    request = urllib.request.Request(url)\n",
    "    request.add_header(\"X-Naver-Client-Id\", client_id)\n",
    "    request.add_header(\"X-Naver-Client-Secret\", client_secret)\n",
    "    \n",
    "    response = urllib.request.urlopen(request)\n",
    "\n",
    "    result = json.loads(response.read().decode('utf-8'))\n",
    "    \n",
    "    end_num = result['display']\n",
    "    \n",
    "    titles = [delete_tag(result['items'][n]['title']) for n in range(end_num)]\n",
    "    director = [result['items'][n]['director'] for n in range(end_num)]\n",
    "    pubDate = [result['items'][n]['pubDate'] for n in range(end_num)]\n",
    "    \n",
    "    return pd.DataFrame({'영화제목':titles, '감독':director, '출시일':pubDate})"
   ]
  },
  {
   "cell_type": "code",
   "execution_count": 78,
   "metadata": {},
   "outputs": [
    {
     "data": {
      "text/html": [
       "<div>\n",
       "<style scoped>\n",
       "    .dataframe tbody tr th:only-of-type {\n",
       "        vertical-align: middle;\n",
       "    }\n",
       "\n",
       "    .dataframe tbody tr th {\n",
       "        vertical-align: top;\n",
       "    }\n",
       "\n",
       "    .dataframe thead th {\n",
       "        text-align: right;\n",
       "    }\n",
       "</style>\n",
       "<table border=\"1\" class=\"dataframe\">\n",
       "  <thead>\n",
       "    <tr style=\"text-align: right;\">\n",
       "      <th></th>\n",
       "      <th>영화제목</th>\n",
       "      <th>감독</th>\n",
       "      <th>출시일</th>\n",
       "    </tr>\n",
       "  </thead>\n",
       "  <tbody>\n",
       "    <tr>\n",
       "      <th>0</th>\n",
       "      <td>토이 스토리 4</td>\n",
       "      <td>조시 쿨리|</td>\n",
       "      <td>2019</td>\n",
       "    </tr>\n",
       "    <tr>\n",
       "      <th>1</th>\n",
       "      <td>댄싱 스루 라이프: 더 도로시 토이 스토리</td>\n",
       "      <td>릭 콴|</td>\n",
       "      <td>2016</td>\n",
       "    </tr>\n",
       "    <tr>\n",
       "      <th>2</th>\n",
       "      <td>토이 스토리 공룡 전사들의 도시</td>\n",
       "      <td>스티브 퍼셀|</td>\n",
       "      <td>2014</td>\n",
       "    </tr>\n",
       "  </tbody>\n",
       "</table>\n",
       "</div>"
      ],
      "text/plain": [
       "                      영화제목       감독   출시일\n",
       "0                 토이 스토리 4   조시 쿨리|  2019\n",
       "1  댄싱 스루 라이프: 더 도로시 토이 스토리     릭 콴|  2016\n",
       "2        토이 스토리 공룡 전사들의 도시  스티브 퍼셀|  2014"
      ]
     },
     "execution_count": 78,
     "metadata": {},
     "output_type": "execute_result"
    }
   ],
   "source": [
    "get_dataframe(url)"
   ]
  },
  {
   "cell_type": "code",
   "execution_count": 79,
   "metadata": {},
   "outputs": [
    {
     "data": {
      "text/plain": [
       "[1, 101, 201]"
      ]
     },
     "execution_count": 79,
     "metadata": {},
     "output_type": "execute_result"
    }
   ],
   "source": [
    "[n for n in range(1, 300, 100)]"
   ]
  },
  {
   "cell_type": "code",
   "execution_count": 80,
   "metadata": {},
   "outputs": [],
   "source": [
    "result_search = []\n",
    "\n",
    "for n in range(1, 300, 100):\n",
    "    url = create_url(\"movie\", \"다이\", n, 100)\n",
    "    result_search.append(get_dataframe(url))\n",
    "    \n",
    "result_search = pd.concat(result_search)"
   ]
  },
  {
   "cell_type": "code",
   "execution_count": 81,
   "metadata": {},
   "outputs": [
    {
     "data": {
      "text/plain": [
       "(298, 3)"
      ]
     },
     "execution_count": 81,
     "metadata": {},
     "output_type": "execute_result"
    }
   ],
   "source": [
    "result_search.shape"
   ]
  },
  {
   "cell_type": "code",
   "execution_count": 82,
   "metadata": {},
   "outputs": [
    {
     "data": {
      "text/html": [
       "<div>\n",
       "<style scoped>\n",
       "    .dataframe tbody tr th:only-of-type {\n",
       "        vertical-align: middle;\n",
       "    }\n",
       "\n",
       "    .dataframe tbody tr th {\n",
       "        vertical-align: top;\n",
       "    }\n",
       "\n",
       "    .dataframe thead th {\n",
       "        text-align: right;\n",
       "    }\n",
       "</style>\n",
       "<table border=\"1\" class=\"dataframe\">\n",
       "  <thead>\n",
       "    <tr style=\"text-align: right;\">\n",
       "      <th></th>\n",
       "      <th>영화제목</th>\n",
       "      <th>감독</th>\n",
       "      <th>출시일</th>\n",
       "    </tr>\n",
       "  </thead>\n",
       "  <tbody>\n",
       "    <tr>\n",
       "      <th>0</th>\n",
       "      <td>데드 돈 다이</td>\n",
       "      <td>짐 자무쉬|</td>\n",
       "      <td>2019</td>\n",
       "    </tr>\n",
       "    <tr>\n",
       "      <th>1</th>\n",
       "      <td>와이 돈 유 저스트 다이!</td>\n",
       "      <td>키릴 소콜로프|</td>\n",
       "      <td>2019</td>\n",
       "    </tr>\n",
       "    <tr>\n",
       "      <th>2</th>\n",
       "      <td>러브 다이 네이버</td>\n",
       "      <td>알렉산더 토마|아만다 아가드|</td>\n",
       "      <td>2019</td>\n",
       "    </tr>\n",
       "    <tr>\n",
       "      <th>3</th>\n",
       "      <td>플레이 오어 다이</td>\n",
       "      <td>자크 클루거|</td>\n",
       "      <td>2018</td>\n",
       "    </tr>\n",
       "    <tr>\n",
       "      <th>4</th>\n",
       "      <td>파티 하드 다이 영</td>\n",
       "      <td>도미닉 하르텔|</td>\n",
       "      <td>2018</td>\n",
       "    </tr>\n",
       "  </tbody>\n",
       "</table>\n",
       "</div>"
      ],
      "text/plain": [
       "             영화제목                감독   출시일\n",
       "0         데드 돈 다이            짐 자무쉬|  2019\n",
       "1  와이 돈 유 저스트 다이!          키릴 소콜로프|  2019\n",
       "2       러브 다이 네이버  알렉산더 토마|아만다 아가드|  2019\n",
       "3       플레이 오어 다이           자크 클루거|  2018\n",
       "4      파티 하드 다이 영          도미닉 하르텔|  2018"
      ]
     },
     "execution_count": 82,
     "metadata": {},
     "output_type": "execute_result"
    }
   ],
   "source": [
    "result_search.head()"
   ]
  },
  {
   "cell_type": "code",
   "execution_count": 83,
   "metadata": {},
   "outputs": [
    {
     "name": "stdout",
     "output_type": "stream",
     "text": [
      "<class 'pandas.core.frame.DataFrame'>\n",
      "Int64Index: 298 entries, 0 to 98\n",
      "Data columns (total 3 columns):\n",
      "영화제목    298 non-null object\n",
      "감독      298 non-null object\n",
      "출시일     298 non-null object\n",
      "dtypes: object(3)\n",
      "memory usage: 9.3+ KB\n"
     ]
    }
   ],
   "source": [
    "result_search.info()"
   ]
  },
  {
   "cell_type": "code",
   "execution_count": 84,
   "metadata": {},
   "outputs": [
    {
     "name": "stdout",
     "output_type": "stream",
     "text": [
      "<class 'pandas.core.frame.DataFrame'>\n",
      "RangeIndex: 298 entries, 0 to 297\n",
      "Data columns (total 3 columns):\n",
      "영화제목    298 non-null object\n",
      "감독      298 non-null object\n",
      "출시일     298 non-null object\n",
      "dtypes: object(3)\n",
      "memory usage: 7.1+ KB\n"
     ]
    }
   ],
   "source": [
    "result_search = result_search.reset_index(drop=True)\n",
    "result_search.info()"
   ]
  },
  {
   "cell_type": "markdown",
   "metadata": {},
   "source": [
    "## 엑셀에 저장하기\n",
    "- Dataframe을 엑셀파일로 저장하기"
   ]
  },
  {
   "cell_type": "code",
   "execution_count": 87,
   "metadata": {},
   "outputs": [],
   "source": [
    "writer = pd.ExcelWriter(\"../data/Python_movie_info.xlsx\", engine='xlsxwriter')\n",
    "result_search.to_excel(writer, sheet_name='Sheet1')\n",
    "\n",
    "workbook  = writer.book\n",
    "worksheet = writer.sheets['Sheet1']\n",
    "\n",
    "format_center = workbook.add_format({'text_wrap': True})\n",
    "format_center.set_align('center')\n",
    "format_center.set_align('vcenter')\n",
    "\n",
    "worksheet.set_column('A:A', 5)\n",
    "worksheet.set_column('B:B', 90, format_center)\n",
    "worksheet.set_column('C:C', 40, format_center)\n",
    "worksheet.set_column('D:D', 15)\n",
    "\n",
    "writer.save()"
   ]
  },
  {
   "cell_type": "code",
   "execution_count": null,
   "metadata": {},
   "outputs": [],
   "source": []
  }
 ],
 "metadata": {
  "kernelspec": {
   "display_name": "Python 3",
   "language": "python",
   "name": "python3"
  },
  "language_info": {
   "codemirror_mode": {
    "name": "ipython",
    "version": 3
   },
   "file_extension": ".py",
   "mimetype": "text/x-python",
   "name": "python",
   "nbconvert_exporter": "python",
   "pygments_lexer": "ipython3",
   "version": "3.7.3"
  }
 },
 "nbformat": 4,
 "nbformat_minor": 2
}
