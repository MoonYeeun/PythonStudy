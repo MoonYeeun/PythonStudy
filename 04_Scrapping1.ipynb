{
 "cells": [
  {
   "cell_type": "markdown",
   "metadata": {},
   "source": [
    "## urllib 사용법 및 기본 스크랩핑\n",
    "\n",
    "- 네이버에서 고양이로 검색하고 이미지 탭에서 선택한 이미지 URL로 로컬에 파일다운로드\n",
    "- urllib.request.urlretrieve()"
   ]
  },
  {
   "cell_type": "code",
   "execution_count": 8,
   "metadata": {},
   "outputs": [],
   "source": [
    "import urllib.request as req"
   ]
  },
  {
   "cell_type": "code",
   "execution_count": 9,
   "metadata": {},
   "outputs": [],
   "source": [
    "# 파일 URL\n",
    "img_url = \"http://blogfiles.naver.net/20150123_69/zjzaplffka_1422001721014OXLnM_JPEG/%B0%ED%BE%E7%C0%CC%BA%D0%BE%E74.jpg\"\n",
    "html_url = \"http://google.com\"\n",
    "\n",
    "# 다운받을 경로\n",
    "save_path1 = \"C:/Users/전산실/test1.jpg\"\n",
    "save_path2 = \"C:/Users/전산실/index.html\""
   ]
  },
  {
   "cell_type": "code",
   "execution_count": 10,
   "metadata": {},
   "outputs": [
    {
     "name": "stdout",
     "output_type": "stream",
     "text": [
      "Filename1 C:/Users/전산실/test1.jpg\n",
      "Filename2 C:/Users/전산실/index.html\n",
      "\n",
      "Download Succeed.\n"
     ]
    }
   ],
   "source": [
    "# 예외 처리\n",
    "try:\n",
    "    file1, header1 = req.urlretrieve(img_url, save_path1)\n",
    "    file2, header2 = req.urlretrieve(html_url, save_path2)\n",
    "except Exception as e:\n",
    "    print(\"Download failed.\")\n",
    "    print(e)\n",
    "else:\n",
    "    # Header 정보 출력\n",
    "    #print(header1)\n",
    "    #print(header2)\n",
    "    \n",
    "    # 다운로드 파일 정보\n",
    "    print(\"Filename1 {}\".format(file1))\n",
    "    print(\"Filename2 {}\".format(file2))\n",
    "    print()\n",
    "    \n",
    "    # 성공\n",
    "    print(\"Download Succeed.\")"
   ]
  },
  {
   "cell_type": "code",
   "execution_count": null,
   "metadata": {},
   "outputs": [],
   "source": []
  }
 ],
 "metadata": {
  "kernelspec": {
   "display_name": "Python 3",
   "language": "python",
   "name": "python3"
  },
  "language_info": {
   "codemirror_mode": {
    "name": "ipython",
    "version": 3
   },
   "file_extension": ".py",
   "mimetype": "text/x-python",
   "name": "python",
   "nbconvert_exporter": "python",
   "pygments_lexer": "ipython3",
   "version": "3.7.3"
  }
 },
 "nbformat": 4,
 "nbformat_minor": 2
}
